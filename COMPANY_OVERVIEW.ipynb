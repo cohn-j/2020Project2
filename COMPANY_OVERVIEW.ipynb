{
 "metadata": {
  "language_info": {
   "codemirror_mode": {
    "name": "ipython",
    "version": 3
   },
   "file_extension": ".py",
   "mimetype": "text/x-python",
   "name": "python",
   "nbconvert_exporter": "python",
   "pygments_lexer": "ipython3",
   "version": "3.6.10-final"
  },
  "orig_nbformat": 2,
  "kernelspec": {
   "name": "python3",
   "display_name": "Python 3.6.10 64-bit ('PythonData': conda)",
   "metadata": {
    "interpreter": {
     "hash": "0b96008626cca6475d57468afa2b47499b7d40e34aa4792a1fd054893ac8e4a7"
    }
   }
  }
 },
 "nbformat": 4,
 "nbformat_minor": 2,
 "cells": [
  {
   "cell_type": "code",
   "execution_count": 1,
   "metadata": {},
   "outputs": [],
   "source": [
    "import json\n",
    "import time\n",
    "import requests\n",
    "import numpy as np\n",
    "import pandas as pd\n",
    "from splinter import Browser\n",
    "from selenium import webdriver\n",
    "from webdriver_manager.chrome import ChromeDriverManager\n",
    "import requests\n",
    "import glob\n",
    "from io import StringIO\n",
    "\n",
    "#import API Key:\n",
    "from alphavantage_apikey import apikey"
   ]
  },
  {
   "cell_type": "code",
   "execution_count": 2,
   "metadata": {},
   "outputs": [
    {
     "output_type": "execute_result",
     "data": {
      "text/plain": [
       "  ticker      Sector\n",
       "0    JPM  Financials\n",
       "1    BAC  Financials\n",
       "2      V  Financials\n",
       "3     MA  Financials\n",
       "4      C  Financials"
      ],
      "text/html": "<div>\n<style scoped>\n    .dataframe tbody tr th:only-of-type {\n        vertical-align: middle;\n    }\n\n    .dataframe tbody tr th {\n        vertical-align: top;\n    }\n\n    .dataframe thead th {\n        text-align: right;\n    }\n</style>\n<table border=\"1\" class=\"dataframe\">\n  <thead>\n    <tr style=\"text-align: right;\">\n      <th></th>\n      <th>ticker</th>\n      <th>Sector</th>\n    </tr>\n  </thead>\n  <tbody>\n    <tr>\n      <th>0</th>\n      <td>JPM</td>\n      <td>Financials</td>\n    </tr>\n    <tr>\n      <th>1</th>\n      <td>BAC</td>\n      <td>Financials</td>\n    </tr>\n    <tr>\n      <th>2</th>\n      <td>V</td>\n      <td>Financials</td>\n    </tr>\n    <tr>\n      <th>3</th>\n      <td>MA</td>\n      <td>Financials</td>\n    </tr>\n    <tr>\n      <th>4</th>\n      <td>C</td>\n      <td>Financials</td>\n    </tr>\n  </tbody>\n</table>\n</div>"
     },
     "metadata": {},
     "execution_count": 2
    }
   ],
   "source": [
    "df = pd.read_csv(\"stock_tickers_and_sectors.csv\")\n",
    "df.head()"
   ]
  },
  {
   "cell_type": "code",
   "execution_count": 3,
   "metadata": {},
   "outputs": [],
   "source": [
    "tickers = []\n",
    "\n",
    "for ticker in df[\"ticker\"]:\n",
    "    tickers.append(ticker)"
   ]
  },
  {
   "cell_type": "code",
   "execution_count": 4,
   "metadata": {},
   "outputs": [
    {
     "output_type": "stream",
     "name": "stdout",
     "text": [
      "We have 1 items\n",
      "We have 2 items\n",
      "We have 3 items\n",
      "We have 4 items\n",
      "We have 5 items\n",
      "We have 6 items\n",
      "We have 7 items\n",
      "We have 8 items\n",
      "We have 9 items\n",
      "We have 10 items\n",
      "We have 11 items\n",
      "We have 12 items\n",
      "We have 13 items\n",
      "We have 14 items\n",
      "We have 15 items\n",
      "We have 16 items\n",
      "We have 17 items\n",
      "We have 18 items\n",
      "We have 19 items\n",
      "We have 20 items\n",
      "We have 21 items\n",
      "We have 22 items\n",
      "We have 23 items\n",
      "We have 24 items\n",
      "We have 25 items\n",
      "We have 26 items\n",
      "We have 27 items\n",
      "We have 28 items\n",
      "We have 29 items\n",
      "We have 30 items\n",
      "We have 31 items\n",
      "We have 32 items\n",
      "We have 33 items\n",
      "We have 34 items\n",
      "We have 35 items\n",
      "We have 36 items\n",
      "We have 37 items\n",
      "We have 38 items\n",
      "We have 39 items\n",
      "We have 40 items\n",
      "We have 41 items\n",
      "We have 42 items\n",
      "We have 43 items\n",
      "We have 44 items\n",
      "We have 45 items\n",
      "We have 46 items\n",
      "We have 47 items\n",
      "We have 48 items\n",
      "We have 49 items\n",
      "We have 50 items\n",
      "We have 51 items\n",
      "We have 52 items\n",
      "We have 53 items\n",
      "We have 54 items\n",
      "We have 55 items\n",
      "We have 56 items\n",
      "We have 57 items\n",
      "We have 58 items\n",
      "We have 59 items\n",
      "We have 60 items\n",
      "We have 61 items\n",
      "We have 62 items\n",
      "We have 63 items\n",
      "We have 64 items\n",
      "We have 65 items\n",
      "We have 66 items\n",
      "We have 67 items\n",
      "We have 68 items\n",
      "We have 69 items\n",
      "We have 70 items\n",
      "We have 71 items\n",
      "We have 72 items\n",
      "We have 73 items\n",
      "We have 74 items\n"
     ]
    }
   ],
   "source": [
    "response_json = []\n",
    "\n",
    "API_OVERVIEW_URL = \"https://www.alphavantage.co/query?function=OVERVIEW&apikey=demo\" + apikey + \"&symbol=\"\n",
    "\n",
    "for ticker in tickers:\n",
    "    post_response = requests.get(API_OVERVIEW_URL + ticker).json()\n",
    "    response_json.append(post_response)\n",
    "    print(f\"We have {len(response_json)} items\")\n",
    "    time.sleep(20)"
   ]
  },
  {
   "cell_type": "code",
   "execution_count": 5,
   "metadata": {},
   "outputs": [
    {
     "output_type": "execute_result",
     "data": {
      "text/plain": [
       "',\n",
       "  'ForwardAnnualDividendYield': '0',\n",
       "  'PayoutRatio': '0',\n",
       "  'DividendDate': 'None',\n",
       "  'ExDividendDate': 'None',\n",
       "  'LastSplitFactor': 'None',\n",
       "  'LastSplitDate': 'None'},\n",
       " {'Symbol': 'VRSN',\n",
       "  'AssetType': 'Common Stock',\n",
       "  'Name': 'VeriSign, Inc',\n",
       "  'Description': 'VeriSign, Inc., together with its subsidiaries, provides domain name registry services and Internet infrastructure that enables Internet navigation for various recognized domain names worldwide. It enables the security, stability, and resiliency of Internet infrastructure and services, including providing root zone maintainer services, operating two of the 13 Internet root servers; and offering registration services and authoritative resolution for the .com and .net domains, which support global e-commerce. VeriSign, Inc. was incorporated in 1995 and is headquartered in Reston, Virginia.',\n",
       "  'Exchange': 'NASDAQ',\n",
       "  'Currency': 'USD',\n",
       "  'Country': 'USA',\n",
       "  'Sector': 'Technology',\n",
       "  'Industry': 'Software-Infrastructure',\n",
       "  'Address': '12061 Bluemont Way, Reston, VA, United States, 20190',\n",
       "  'FullTimeEmployees': '872',\n",
       "  'FiscalYearEnd': 'December',\n",
       "  'LatestQuarter': '2020-09-30',\n",
       "  'MarketCapitalization': '22659964928',\n",
       "  'EBITDA': '864724992',\n",
       "  'PERatio': '28.6469',\n",
       "  'PEGRatio': '3.1097',\n",
       "  'BookValue': '-12.022',\n",
       "  'DividendPerShare': 'None',\n",
       "  'DividendYield': '0',\n",
       "  'EPS': '6.932',\n",
       "  'RevenuePerShareTTM': '10.833',\n",
       "  'ProfitMargin': '0.642',\n",
       "  'OperatingMarginTTM': '0.6518',\n",
       "  'ReturnOnAssetsTTM': '0.2802',\n",
       "  'ReturnOnEquityTTM': '0',\n",
       "  'RevenueTTM': '1255310976',\n",
       "  'GrossProfitTTM': '1051194000',\n",
       "  'DilutedEPSTTM': '6.932',\n",
       "  'QuarterlyEarningsGrowthYOY': '0.146',\n",
       "  'QuarterlyRevenueGrowthYOY': '0.031',\n",
       "  'AnalystTargetPrice': '240.57',\n",
       "  'TrailingPE': '28.6469',\n",
       "  'ForwardPE': '32.1543',\n",
       "  'PriceToSalesRatioTTM': '18.5109',\n",
       "  'PriceToBookRatio': '0',\n",
       "  'EVToRevenue': '18.9152',\n",
       "  'EVToEBITDA': '26.7059',\n",
       "  'Beta': '0.8199',\n",
       "  '52WeekHigh': '221.3',\n",
       "  '52WeekLow': '148.77',\n",
       "  '50DayMovingAverage': '207.7973',\n",
       "  '200DayMovingAverage': '205.4499',\n",
       "  'SharesOutstanding': '114110000',\n",
       "  'SharesFloat': '106089085',\n",
       "  'SharesShort': '1282804',\n",
       "  'SharesShortPriorMonth': '1269254',\n",
       "  'ShortRatio': '1.94',\n",
       "  'ShortPercentOutstanding': '0.01',\n",
       "  'ShortPercentFloat': '0.0146',\n",
       "  'PercentInsiders': '1.302',\n",
       "  'PercentInstitutions': '92.9',\n",
       "  'ForwardAnnualDividendRate': '0',\n",
       "  'ForwardAnnualDividendYield': '0',\n",
       "  'PayoutRatio': '0',\n",
       "  'DividendDate': '2011-05-18',\n",
       "  'ExDividendDate': '2011-05-05',\n",
       "  'LastSplitFactor': '2:1',\n",
       "  'LastSplitDate': '1999-12-07'},\n",
       " {'Symbol': 'SQ',\n",
       "  'AssetType': 'Common Stock',\n",
       "  'Name': 'Square, Inc',\n",
       "  'Description': \"Square, Inc. provides, together with its subsidiaries, payment and point-of-sale solutions in the United States and internationally. The company's commerce ecosystem includes point-of-sale software and hardware that offers sellers to payment and point-of-sale solutions. It provides hardware products, including Magstripe reader, which enables swiped transactions of magnetic stripe cards; Contactless and chip reader that accepts Europay, MasterCard, and Visa (EMV) chip cards and Near Field Communication payments; Square Stand, which enables an iPad to be used as a payment terminal or full point of sale solution; Square Register that combines its hardware, point-of-sale software, and payments technology; Square Terminal, a portable payments device that replaces keypad terminals, which accepts various payment types, such as tap, dip, and swipe, as well as prints receipts; and managed payments solutions. The company also offers various software products, including Square Point of Sale; Square Virtual Terminal; Square Appointments; Square for Retail; Square for Restaurants; Square Invoices, Square Online Store; Square Loyalty, Marketing, and Gift Cards; and Square Dashboard. In addition, it offers developer platform, which includes application programming interfaces and software development kits. Further, it provides managed payments, instant transfer, Square Card, Square Capital, and payroll. Additionally, it provides Cash App, which enables to send, spend, and store money; and Weebly that offers customers website hosting and domain name registration solutions. Square, Inc. was founded in 2009 and is headquartered in San Francisco, California.\",\n",
       "  'Exchange': 'NYSE',\n",
       "  'Currency': 'USD',\n",
       "  'Country': 'USA',\n",
       "  'Sector': 'Technology',\n",
       "  'Industry': 'Software-Infrastructure',\n",
       "  'Address': '1455 Market Street, San Francisco, CA, United States, 94103',\n",
       "  'FullTimeEmployees': '3835',\n",
       "  'FiscalYearEnd': 'December',\n",
       "  'LatestQuarter': '2020-09-30',\n",
       "  'MarketCapitalization': '102597189632',\n",
       "  'EBITDA': '14910000',\n",
       "  'PERatio': '345.2504',\n",
       "  'PEGRatio': '4.4303',\n",
       "  'BookValue': '4.608',\n",
       "  'DividendPerShare': 'None',\n",
       "  'DividendYield': '0',\n",
       "  'EPS': '0.659',\n",
       "  'RevenuePerShareTTM': '17.492',\n",
       "  'ProfitMargin': '0.0405',\n",
       "  'OperatingMarginTTM': '-0.0061',\n",
       "  'ReturnOnAssetsTTM': '-0.0048',\n",
       "  'ReturnOnEquityTTM': '0.1872',\n",
       "  'RevenueTTM': '7652037120',\n",
       "  'GrossProfitTTM': '1896635000',\n",
       "  'DilutedEPSTTM': '0.659',\n",
       "  'QuarterlyEarningsGrowthYOY': '0.167',\n",
       "  'QuarterlyRevenueGrowthYOY': '1.396',\n",
       "  'AnalystTargetPrice': '211.5',\n",
       "  'TrailingPE': '345.2504',\n",
       "  'ForwardPE': '185.1852',\n",
       "  'PriceToSalesRatioTTM': '13.6106',\n",
       "  'PriceToBookRatio': '47.5762',\n",
       "  'EVToRevenue': '12.5558',\n",
       "  'EVToEBITDA': '1567.0567',\n",
       "  'Beta': '2.7101',\n",
       "  '52WeekHigh': '246.49',\n",
       "  '52WeekLow': '32.33',\n",
       "  '50DayMovingAverage': '220.4661',\n",
       "  '200DayMovingAverage': '170.3729',\n",
       "  'SharesOutstanding': '383806016',\n",
       "  'SharesFloat': '381280593',\n",
       "  'SharesShort': '27305478',\n",
       "  'SharesShortPriorMonth': '26739956',\n",
       "  'ShortRatio': '2.94',\n",
       "  'ShortPercentOutstanding': '0.06',\n",
       "  'ShortPercentFloat': '0.0716',\n",
       "  'PercentInsiders': '0.971',\n",
       "  'PercentInstitutions': '77.724',\n",
       "  'ForwardAnnualDividendRate': '0',\n",
       "  'ForwardAnnualDividendYield': '0',\n",
       "  'PayoutRatio': '0',\n",
       "  'DividendDate': 'None',\n",
       "  'ExDividendDate': 'None',\n",
       "  'LastSplitFactor': 'None',\n",
       "  'LastSplitDate': 'None'},\n",
       " {'Symbol': 'AAPL',\n",
       "  'AssetType': 'Common Stock',\n",
       "  'Name': 'Apple Inc',\n",
       "  'Description': 'Apple Inc. designs, manufactures, and markets smartphones, personal computers, tablets, wearables, and accessories worldwide. It also sells various related services. The company offers iPhone, a line of smartphones; Mac, a line of personal computers; iPad, a line of multi-purpose tablets; and wearables, home, and accessories comprising AirPods, Apple TV, Apple Watch, Beats products, HomePod, iPod touch, and other Apple-branded and third-party accessories. It also provides AppleCare support services; cloud services store services; and operates various platforms, including the App Store, that allow customers to discover and download applications and digital content, such as books, music, video, games, and podcasts. In addition, the company offers various services, such as Apple Arcade, a game subscription service; Apple Music, which offers users a curated listening experience with on-demand radio stations; Apple News+, a subscription news and magazine service; Apple TV+, which offers exclusive original content; Apple Card, a co-branded credit card; and Apple Pay, a cashless payment service, as well as licenses its intellectual property. The company serves consumers, and small and mid-sized businesses; and the education, enterprise, and government markets. It sells and delivers third-party applications for its products through the App Store. The company also sells its products through its retail and online stores, and direct sales force; and third-party cellular network carriers, wholesalers, retailers, and resellers. Apple Inc. was founded in 1977 and is headquartered in Cupertino, California.',\n",
       "  'Exchange': 'NASDAQ',\n",
       "  'Currency': 'USD',\n",
       "  'Country': 'USA',\n",
       "  'Sector': 'Technology',\n",
       "  'Industry': 'Consumer Electronics',\n",
       "  'Address': 'One Apple Park Way, Cupertino, CA, United States, 95014',\n",
       "  'FullTimeEmployees': '147000',\n",
       "  'FiscalYearEnd': 'September',\n",
       "  'LatestQuarter': '2020-09-30',\n",
       "  'MarketCapitalization': '2166841147392',\n",
       "  'EBITDA': '77343997952',\n",
       "  'PERatio': '39.2683',\n",
       "  'PEGRatio': '3.2359',\n",
       "  'BookValue': '3.849',\n",
       "  'DividendPerShare': '0.82',\n",
       "  'DividendYield': '0.0064',\n",
       "  'EPS': '3.28',\n",
       "  'RevenuePerShareTTM': '15.82',\n",
       "  'ProfitMargin': '0.2091',\n",
       "  'OperatingMarginTTM': '0.2415',\n",
       "  'ReturnOnAssetsTTM': '0.1251',\n",
       "  'ReturnOnEquityTTM': '0.7369',\n",
       "  'RevenueTTM': '274515001344',\n",
       "  'GrossProfitTTM': '104956000000',\n",
       "  'DilutedEPSTTM': '3.28',\n",
       "  'QuarterlyEarningsGrowthYOY': '-0.023',\n",
       "  'QuarterlyRevenueGrowthYOY': '0.01',\n",
       "  'AnalystTargetPrice': '130.5',\n",
       "  'TrailingPE': '39.2683',\n",
       "  'ForwardPE': '32.4675',\n",
       "  'PriceToSalesRatioTTM': '8.2356',\n",
       "  'PriceToBookRatio': '33.2093',\n",
       "  'EVToRevenue': '7.9827',\n",
       "  'EVToEBITDA': '27.0471',\n",
       "  'Beta': '1.2836',\n",
       "  '52WeekHigh': '138.79',\n",
       "  '52WeekLow': '52.8225',\n",
       "  '50DayMovingAverage': '126.0621',\n",
       "  '200DayMovingAverage': '114.8205',\n",
       "  'SharesOutstanding': '16823300096',\n",
       "  'SharesFloat': '16984460162',\n",
       "  'SharesShort': '94721417',\n",
       "  'SharesShortPriorMonth': '89985311',\n",
       "  'ShortRatio': '1',\n",
       "  'ShortPercentOutstanding': '0.01',\n",
       "  'ShortPercentFloat': '0.0056',\n",
       "  'PercentInsiders': '0.065',\n",
       "  'PercentInstitutions': '59.662',\n",
       "  'ForwardAnnualDividendRate': '0.82',\n",
       "  'ForwardAnnualDividendYield': '0.0064',\n",
       "  'PayoutRatio': '0.2469',\n",
       "  'DividendDate': '2020-11-12',\n",
       "  'ExDividendDate': '2020-11-06',\n",
       "  'LastSplitFactor': '4:1',\n",
       "  'LastSplitDate': '2020-08-31'},\n",
       " {'Symbol': 'INTC',\n",
       "  'AssetType': 'Common Stock',\n",
       "  'Name': 'Intel Corporation',\n",
       "  'Description': \"Intel Corporation designs, manufactures, and sells essential technologies for the cloud, smart, and connected devices worldwide. The company operates through DCG, IOTG, Mobileye, NSG, PSG, CCG, and All Other segments. It offers platform products, such as central processing units and chipsets, and system-on-chip and multichip packages; and non-platform or adjacent products comprising accelerators, boards and systems, connectivity products, and memory and storage products. The company also provides Internet of things products, including high-performance compute solutions for targeted verticals and embedded applications; and computer vision and machine learning-based sensing, data analysis, localization, mapping, and driving policy technology. It serves original equipment manufacturers, original design manufacturers, and cloud service providers. The company has collaborations with UC San Francisco's Center for Digital Health Innovation, Fortanix, and Microsoft Azure to establish a computing platform with privacy-preserving analytics to accelerate the development and validation of clinical algorithms; and Inventec Corporation. Intel Corporation was founded in 1968 and is headquartered in Santa Clara, California.\",\n",
       "  'Exchange': 'NASDAQ',\n",
       "  'Currency': 'USD',\n",
       "  'Country': 'USA',\n",
       "  'Sector': 'Technology',\n",
       "  'Industry': 'Semiconductors',\n",
       "  'Address': '2200 Mission College Boulevard, Santa Clara, CA, United States, 95054-1549',\n",
       "  'FullTimeEmployees': '111300',\n",
       "  'FiscalYearEnd': 'December',\n",
       "  'LatestQuarter': '2020-09-30',\n",
       "  'MarketCapitalization': '218177519616',\n",
       "  'EBITDA': '37046001664',\n",
       "  'PERatio': '10.4208',\n",
       "  'PEGRatio': '2.2691',\n",
       "  'BookValue': '18.193',\n",
       "  'DividendPerShare': '1.32',\n",
       "  'DividendYield': '0.0256',\n",
       "  'EPS': '5.109',\n",
       "  'RevenuePerShareTTM': '18.358',\n",
       "  'ProfitMargin': '0.281',\n",
       "  'OperatingMarginTTM': '0.3181',\n",
       "  'ReturnOnAssetsTTM': '0.1113',\n",
       "  'ReturnOnEquityTTM': '0.295',\n",
       "  'RevenueTTM': '78097997824',\n",
       "  'GrossProfitTTM': '42140000000',\n",
       "  'DilutedEPSTTM': '5.109',\n",
       "  'QuarterlyEarningsGrowthYOY': '-0.244',\n",
       "  'QuarterlyRevenueGrowthYOY': '-0.045',\n",
       "  'AnalystTargetPrice': '52.11',\n",
       "  'TrailingPE': '10.4208',\n",
       "  'ForwardPE': '11.3507',\n",
       "  'PriceToSalesRatioTTM': '2.8699',\n",
       "  'PriceToBookRatio': '2.8687',\n",
       "  'EVToRevenue': '2.9447',\n",
       "  'EVToEBITDA': '5.9809',\n",
       "  'Beta': '0.7348',\n",
       "  '52WeekHigh': '67.609',\n",
       "  '52WeekLow': '42.7811',\n",
       "  '50DayMovingAverage': '49.3224',\n",
       "  '200DayMovingAverage': '50.6208',\n",
       "  'SharesOutstanding': '4097999872',\n",
       "  'SharesFloat': '4094639640',\n",
       "  'SharesShort': '73445620',\n",
       "  'SharesShortPriorMonth': '50572490',\n",
       "  'ShortRatio': '2.11',\n",
       "  'ShortPercentOutstanding': '0.02',\n",
       "  'ShortPercentFloat': '0.0179',\n",
       "  'PercentInsiders': '0.049',\n",
       "  'PercentInstitutions': '66.406',\n",
       "  'ForwardAnnualDividendRate': '1.32',\n",
       "  'ForwardAnnualDividendYield': '0.0256',\n",
       "  'PayoutRatio': '0.2588',\n",
       "  'DividendDate': '2020-12-01',\n",
       "  'ExDividendDate': '2020-11-05',\n",
       "  'LastSplitFactor': '2:1',\n",
       "  'LastSplitDate': '2000-07-31'},\n",
       " {'Symbol': 'CRM',\n",
       "  'AssetType': 'Common Stock',\n",
       "  'Name': 'salesforce.com, inc',\n",
       "  'Description': 'salesforce.com, inc. develops enterprise cloud computing solutions with a focus on customer relationship management worldwide. The company offers Sales Cloud to store data, monitor leads and progress, forecast opportunities, and gain insights through analytics and relationship intelligence, as well as deliver quotes, contracts, and invoices. It also provides Service Cloud, which enables companies to deliver personalized customer service and support, as well as a field service solution that enables companies to connect agents, dispatchers, and mobile employees through a centralized platform, which helps to schedule and dispatch work, and track and manage jobs in real-time. In addition, the company offers Marketing Cloud to plan, personalize, and optimize one-to-one customer marketing interactions; and Commerce Cloud, which enables companies to enhance engagement, conversion, revenue, and loyalty from their customers. Further, it provides Customer 360 Platform that offers no-code to pro-code Platform-as-a-Service tools for building, securing, integrating, and managing the business apps; MuleSoft Anypoint Platform enables customers to connect any system, application, data, or device; Quip collaboration platform, which combines documents, spreadsheets, apps, and chat with live CRM data; and Tableau and Einstein Analytics, provides analytical technology to customers. Additionally, the company offers various solutions for financial services, healthcare and life sciences, manufacturing, consumer goods, government, and philanthropy. The company also provides professional services and education services, including instructor-led and online courses; and support and adoption programs. It provides its services through direct sales; and consulting firms, systems integrators, and other partners. Salesforce and Siemens has a strategic partnership. The company was founded in 1999 and is headquartered in San Francisco, California.',\n",
       "  'Exchange': 'NYSE',\n",
       "  'Currency': 'USD',\n",
       "  'Country': 'USA',\n",
       "  'Sector': 'Technology',\n",
       "  'Industry': 'Software-Application',\n",
       "  'Address': 'Salesforce Tower, San Francisco, CA, United States, 94105',\n",
       "  'FullTimeEmployees': '54557',\n",
       "  'FiscalYearEnd': 'January',\n",
       "  'LatestQuarter': '2020-10-31',\n",
       "  'MarketCapitalization': '197927698432',\n",
       "  'EBITDA': '2022000000',\n",
       "  'PERatio': '55.902',\n",
       "  'PEGRatio': '3.1675',\n",
       "  'BookValue': '44.103',\n",
       "  'DividendPerShare': 'None',\n",
       "  'DividendYield': '0',\n",
       "  'EPS': '3.858',\n",
       "  'RevenuePerShareTTM': '22.515',\n",
       "  'ProfitMargin': '0.1753',\n",
       "  'OperatingMarginTTM': '0.0131',\n",
       "  'ReturnOnAssetsTTM': '0.0031',\n",
       "  'ReturnOnEquityTTM': '0.0967',\n",
       "  'RevenueTTM': '20285999104',\n",
       "  'GrossProfitTTM': '12863000000',\n",
       "  'DilutedEPSTTM': '3.858',\n",
       "  'QuarterlyEarningsGrowthYOY': '24.909',\n",
       "  'QuarterlyRevenueGrowthYOY': '0.201',\n",
       "  'AnalystTargetPrice': '273.29',\n",
       "  'TrailingPE': '55.902',\n",
       "  'ForwardPE': '63.2911',\n",
       "  'PriceToSalesRatioTTM': '10.0999',\n",
       "  'PriceToBookRatio': '5.0552',\n",
       "  'EVToRevenue': '9.865',\n",
       "  'EVToEBITDA': '70.5648',\n",
       "  'Beta': '1.1717',\n",
       "  '52WeekHigh': '284.5',\n",
       "  '52WeekLow': '115.29',\n",
       "  '50DayMovingAverage': '228.0812',\n",
       "  '200DayMovingAverage': '229.5158',\n",
       "  'SharesOutstanding': '917734976',\n",
       "  'SharesFloat': '881739750',\n",
       "  'SharesShort': '21828321',\n",
       "  'SharesShortPriorMonth': '14588248',\n",
       "  'ShortRatio': '1.69',\n",
       "  'ShortPercentOutstanding': '0.02',\n",
       "  'ShortPercentFloat': '0.0276',\n",
       "  'PercentInsiders': '3.615',\n",
       "  'PercentInstitutions': '83.468',\n",
       "  'ForwardAnnualDividendRate': '0',\n",
       "  'ForwardAnnualDividendYield': '0',\n",
       "  'PayoutRatio': '0',\n",
       "  'DividendDate': 'None',\n",
       "  'ExDividendDate': 'None',\n",
       "  'LastSplitFactor': '4:1',\n",
       "  'LastSplitDate': '2013-04-18'},\n",
       " {'Symbol': 'DOCU',\n",
       "  'AssetType': 'Common Stock',\n",
       "  'Name': 'DocuSign, Inc',\n",
       "  'Description': 'DocuSign, Inc. provides cloud based software in the United States and internationally. The company provides e-signature solution that enables businesses to digitally prepare, execute, and act on agreements. It also offers DocuSign CLM, which automates workflows across the entire agreement process; Intelligent Insights that use artificial intelligence to search and analyze agreements by legal concepts and clauses; Gen for Salesforce, which allows sales representatives to automatically generate agreements with a few clicks from within Salesforce; and Negotiate for Salesforce that supports for approvals, document comparisons, and version control. In addition, the company provides Guided Forms, which enable complex forms to be filled via an interactive and step-by-step process; Click that supports no-signature-required agreements for standard terms and consents; Identify, a signer-identification option for checking government-issued IDs; Standards-Based Signatures, which support signatures that involve digital certificates; Payments that enables customers to collect signatures and payment; and eNotary, which offers the ability to execute electronic notarial acts. Further, it offers industry-specific cloud offerings, including Rooms for Real Estate that provides a way for brokers and agents to manage the entire real estate transaction digitally; Rooms for Mortgage, which offers digital workspace to create and close mortgages; FedRAMP, an authorized version of DocuSign eSignature for U.S. federal government agencies; and life sciences modules that support compliance with the electronic signature practices. The company sells its products through direct, partner-assisted, and Web-based sales. It serves enterprise, commercial, and small businesses, such as professionals, sole proprietorships, and individuals. The company was founded in 2003 and is headquartered in San Francisco, California.',\n",
       "  'Exchange': 'NASDAQ',\n",
       "  'Currency': 'USD',\n",
       "  'Country': 'USA',\n",
       "  'Sector': 'Technology',\n",
       "  'Industry': 'Software-Application',\n",
       "  'Address': '221 Main Street, San Francisco, CA, United States, 94105',\n",
       "  'FullTimeEmployees': '3909',\n",
       "  'FiscalYearEnd': 'January',\n",
       "  'LatestQuarter': '2020-10-31',\n",
       "  'MarketCapitalization': '48633585664',\n",
       "  'EBITDA': '-184288992',\n",
       "  'PERatio': 'None',\n",
       "  'PEGRatio': '4.0285',\n",
       "  'BookValue': '2.284',\n",
       "  'DividendPerShare': 'None',\n",
       "  'DividendYield': '0',\n",
       "  'EPS': '-1.366',\n",
       "  'RevenuePerShareTTM': '7.057',\n",
       "  'ProfitMargin': '-0.1683',\n",
       "  'OperatingMarginTTM': '-0.1475',\n",
       "  'ReturnOnAssetsTTM': '-0.0623',\n",
       "  'ReturnOnEquityTTM': '-0.4385',\n",
       "  'RevenueTTM': '1297043968',\n",
       "  'GrossProfitTTM': '733314000',\n",
       "  'DilutedEPSTTM': '-1.187',\n",
       "  'QuarterlyEarningsGrowthYOY': '0',\n",
       "  'QuarterlyRevenueGrowthYOY': '0.535',\n",
       "  'AnalystTargetPrice': '279.45',\n",
       "  'TrailingPE': '0',\n",
       "  'ForwardPE': '212.766',\n",
       "  'PriceToSalesRatioTTM': '34.7086',\n",
       "  'PriceToBookRatio': '107.2534',\n",
       "  'EVToRevenue': '35.2962',\n",
       "  'EVToEBITDA': '0',\n",
       "  'Beta': '0.8735',\n",
       "  '52WeekHigh': '263',\n",
       "  '52WeekLow': '64.88',\n",
       "  '50DayMovingAverage': '231.4497',\n",
       "  '200DayMovingAverage': '215.9173',\n",
       "  'SharesOutstanding': '185164992',\n",
       "  'SharesFloat': '183100018',\n",
       "  'SharesShort': '7980257',\n",
       "  'SharesShortPriorMonth': '8670617',\n",
       "  'ShortRatio': '1.88',\n",
       "  'ShortPercentOutstanding': '0.04',\n",
       "  'ShortPercentFloat': '0.0507',\n",
       "  'PercentInsiders': '1.764',\n",
       "  'PercentInstitutions': '75.307',\n",
       "  'ForwardAnnualDividendRate': '0',\n",
       "  'ForwardAnnualDividendYield': '0',\n",
       "  'PayoutRatio': '0',\n",
       "  'DividendDate': 'None',\n",
       "  'ExDividendDate': 'None',\n",
       "  'LastSplitFactor': 'None',\n",
       "  'LastSplitDate': 'None'}]"
      ]
     },
     "metadata": {},
     "execution_count": 5
    }
   ],
   "source": [
    "response_json"
   ]
  },
  {
   "cell_type": "code",
   "execution_count": 8,
   "metadata": {},
   "outputs": [
    {
     "output_type": "execute_result",
     "data": {
      "text/plain": [
       "'JPM'"
      ]
     },
     "metadata": {},
     "execution_count": 8
    }
   ],
   "source": [
    "response_json[0][\"Symbol\"]"
   ]
  },
  {
   "cell_type": "code",
   "execution_count": 9,
   "metadata": {},
   "outputs": [
    {
     "output_type": "execute_result",
     "data": {
      "text/plain": [
       "'Financial Services'"
      ]
     },
     "metadata": {},
     "execution_count": 9
    }
   ],
   "source": [
    "response_json[0][\"Sector\"]"
   ]
  },
  {
   "cell_type": "code",
   "execution_count": 64,
   "metadata": {},
   "outputs": [],
   "source": [
    "data = pd.DataFrame(response_json)"
   ]
  },
  {
   "cell_type": "code",
   "execution_count": 73,
   "metadata": {},
   "outputs": [],
   "source": [
    "overview_df = data.filter([\"Symbol\", \"Sector\",\"LatestQuarter\", \"52WeekHigh\", \"52WeekLow\", \"PERatio\",\"EPS\",\"DividendYield\",\"MarketCapitalization\"], axis=1)"
   ]
  },
  {
   "cell_type": "code",
   "execution_count": 75,
   "metadata": {},
   "outputs": [
    {
     "output_type": "execute_result",
     "data": {
      "text/plain": [
       "  Ticker              Sector LatestQuarter 52WeekHigh 52WeekLow  PERatio  \\\n",
       "0    JPM  Financial Services    2020-09-30     141.66   74.1573   18.284   \n",
       "1    BAC  Financial Services    2020-09-30    34.5241   17.5928  16.5813   \n",
       "2      V  Financial Services    2020-09-30     220.39   133.304  42.7291   \n",
       "3     MA  Financial Services    2020-09-30   366.3585  198.9308  51.4663   \n",
       "4      C  Financial Services    2020-09-30    78.9444   30.9627  12.9834   \n",
       "\n",
       "     EPS DividendYield MarketCapitalization  \n",
       "0  7.669        0.0261         427418583040  \n",
       "1   2.03        0.0214         291185590272  \n",
       "2  4.888         0.006         460413108224  \n",
       "3  6.663        0.0051         341865529344  \n",
       "4  5.135        0.0307         138804264960  "
      ],
      "text/html": "<div>\n<style scoped>\n    .dataframe tbody tr th:only-of-type {\n        vertical-align: middle;\n    }\n\n    .dataframe tbody tr th {\n        vertical-align: top;\n    }\n\n    .dataframe thead th {\n        text-align: right;\n    }\n</style>\n<table border=\"1\" class=\"dataframe\">\n  <thead>\n    <tr style=\"text-align: right;\">\n      <th></th>\n      <th>Ticker</th>\n      <th>Sector</th>\n      <th>LatestQuarter</th>\n      <th>52WeekHigh</th>\n      <th>52WeekLow</th>\n      <th>PERatio</th>\n      <th>EPS</th>\n      <th>DividendYield</th>\n      <th>MarketCapitalization</th>\n    </tr>\n  </thead>\n  <tbody>\n    <tr>\n      <th>0</th>\n      <td>JPM</td>\n      <td>Financial Services</td>\n      <td>2020-09-30</td>\n      <td>141.66</td>\n      <td>74.1573</td>\n      <td>18.284</td>\n      <td>7.669</td>\n      <td>0.0261</td>\n      <td>427418583040</td>\n    </tr>\n    <tr>\n      <th>1</th>\n      <td>BAC</td>\n      <td>Financial Services</td>\n      <td>2020-09-30</td>\n      <td>34.5241</td>\n      <td>17.5928</td>\n      <td>16.5813</td>\n      <td>2.03</td>\n      <td>0.0214</td>\n      <td>291185590272</td>\n    </tr>\n    <tr>\n      <th>2</th>\n      <td>V</td>\n      <td>Financial Services</td>\n      <td>2020-09-30</td>\n      <td>220.39</td>\n      <td>133.304</td>\n      <td>42.7291</td>\n      <td>4.888</td>\n      <td>0.006</td>\n      <td>460413108224</td>\n    </tr>\n    <tr>\n      <th>3</th>\n      <td>MA</td>\n      <td>Financial Services</td>\n      <td>2020-09-30</td>\n      <td>366.3585</td>\n      <td>198.9308</td>\n      <td>51.4663</td>\n      <td>6.663</td>\n      <td>0.0051</td>\n      <td>341865529344</td>\n    </tr>\n    <tr>\n      <th>4</th>\n      <td>C</td>\n      <td>Financial Services</td>\n      <td>2020-09-30</td>\n      <td>78.9444</td>\n      <td>30.9627</td>\n      <td>12.9834</td>\n      <td>5.135</td>\n      <td>0.0307</td>\n      <td>138804264960</td>\n    </tr>\n  </tbody>\n</table>\n</div>"
     },
     "metadata": {},
     "execution_count": 75
    }
   ],
   "source": [
    "overview_df = overview_df.rename(columns={\"Symbol\": \"Ticker\"})\n",
    "overview_df.head()"
   ]
  },
  {
   "cell_type": "code",
   "execution_count": 76,
   "metadata": {},
   "outputs": [],
   "source": [
    "output_file = overview_df.to_csv(\"overview.csv\", encoding='utf-8', index=False)"
   ]
  },
  {
   "cell_type": "code",
   "execution_count": 11,
   "metadata": {},
   "outputs": [
    {
     "output_type": "stream",
     "name": "stdout",
     "text": [
      "Collecting plotly\n",
      "  Using cached plotly-4.14.3-py2.py3-none-any.whl (13.2 MB)\n",
      "Requirement already satisfied: six in c:\\users\\cohnj\\anaconda3\\lib\\site-packages (from plotly) (1.15.0)\n",
      "Collecting retrying>=1.3.3\n",
      "  Using cached retrying-1.3.3.tar.gz (10 kB)\n",
      "Building wheels for collected packages: retrying\n",
      "  Building wheel for retrying (setup.py): started\n",
      "Note: you may need to restart the kernel to use updated packages.\n",
      "  Building wheel for retrying (setup.py): finished with status 'done'\n",
      "  Created wheel for retrying: filename=retrying-1.3.3-py3-none-any.whl size=11435 sha256=c8b9307981c96f2da10bdbccf2572d4799e7de8036e7360ac4ddced1f5c9dd98\n",
      "  Stored in directory: c:\\users\\cohnj\\appdata\\local\\pip\\cache\\wheels\\c4\\a7\\48\\0a434133f6d56e878ca511c0e6c38326907c0792f67b476e56\n",
      "Successfully built retrying\n",
      "Installing collected packages: retrying, plotly\n",
      "Successfully installed plotly-4.14.3 retrying-1.3.3\n"
     ]
    }
   ],
   "source": [
    "\n",
    "pip install plotly\n"
   ]
  },
  {
   "cell_type": "code",
   "execution_count": 68,
   "metadata": {},
   "outputs": [],
   "source": [
    "import plotly.graph_objects as go\n",
    "from plotly.subplots import make_subplots\n",
    "import plotly.express as px"
   ]
  },
  {
   "cell_type": "code",
   "execution_count": 69,
   "metadata": {},
   "outputs": [
    {
     "output_type": "execute_result",
     "data": {
      "text/plain": [
       "  Symbol              Sector LatestQuarter  52WeekHigh  52WeekLow  PERatio  \\\n",
       "0    JPM  Financial Services    2020-09-30    141.6600    74.1573   18.284   \n",
       "1    BAC  Financial Services    2020-09-30     34.5241    17.5928  16.5813   \n",
       "2      V  Financial Services    2020-09-30    220.3900   133.3040  42.7291   \n",
       "3     MA  Financial Services    2020-09-30    366.3585   198.9308  51.4663   \n",
       "4      C  Financial Services    2020-09-30     78.9444    30.9627  12.9834   \n",
       "\n",
       "     EPS  DividendYield  MarketCapitalization  \n",
       "0  7.669         0.0261          427418583040  \n",
       "1  2.030         0.0214          291185590272  \n",
       "2  4.888         0.0060          460413108224  \n",
       "3  6.663         0.0051          341865529344  \n",
       "4  5.135         0.0307          138804264960  "
      ],
      "text/html": "<div>\n<style scoped>\n    .dataframe tbody tr th:only-of-type {\n        vertical-align: middle;\n    }\n\n    .dataframe tbody tr th {\n        vertical-align: top;\n    }\n\n    .dataframe thead th {\n        text-align: right;\n    }\n</style>\n<table border=\"1\" class=\"dataframe\">\n  <thead>\n    <tr style=\"text-align: right;\">\n      <th></th>\n      <th>Symbol</th>\n      <th>Sector</th>\n      <th>LatestQuarter</th>\n      <th>52WeekHigh</th>\n      <th>52WeekLow</th>\n      <th>PERatio</th>\n      <th>EPS</th>\n      <th>DividendYield</th>\n      <th>MarketCapitalization</th>\n    </tr>\n  </thead>\n  <tbody>\n    <tr>\n      <th>0</th>\n      <td>JPM</td>\n      <td>Financial Services</td>\n      <td>2020-09-30</td>\n      <td>141.6600</td>\n      <td>74.1573</td>\n      <td>18.284</td>\n      <td>7.669</td>\n      <td>0.0261</td>\n      <td>427418583040</td>\n    </tr>\n    <tr>\n      <th>1</th>\n      <td>BAC</td>\n      <td>Financial Services</td>\n      <td>2020-09-30</td>\n      <td>34.5241</td>\n      <td>17.5928</td>\n      <td>16.5813</td>\n      <td>2.030</td>\n      <td>0.0214</td>\n      <td>291185590272</td>\n    </tr>\n    <tr>\n      <th>2</th>\n      <td>V</td>\n      <td>Financial Services</td>\n      <td>2020-09-30</td>\n      <td>220.3900</td>\n      <td>133.3040</td>\n      <td>42.7291</td>\n      <td>4.888</td>\n      <td>0.0060</td>\n      <td>460413108224</td>\n    </tr>\n    <tr>\n      <th>3</th>\n      <td>MA</td>\n      <td>Financial Services</td>\n      <td>2020-09-30</td>\n      <td>366.3585</td>\n      <td>198.9308</td>\n      <td>51.4663</td>\n      <td>6.663</td>\n      <td>0.0051</td>\n      <td>341865529344</td>\n    </tr>\n    <tr>\n      <th>4</th>\n      <td>C</td>\n      <td>Financial Services</td>\n      <td>2020-09-30</td>\n      <td>78.9444</td>\n      <td>30.9627</td>\n      <td>12.9834</td>\n      <td>5.135</td>\n      <td>0.0307</td>\n      <td>138804264960</td>\n    </tr>\n  </tbody>\n</table>\n</div>"
     },
     "metadata": {},
     "execution_count": 69
    }
   ],
   "source": [
    "df_tree = pd.read_csv(\"overview.csv\")\n",
    "df_tree.head()"
   ]
  },
  {
   "cell_type": "code",
   "execution_count": 70,
   "metadata": {},
   "outputs": [
    {
     "output_type": "execute_result",
     "data": {
      "text/plain": [
       "Symbol                   object\n",
       "Sector                   object\n",
       "LatestQuarter            object\n",
       "52WeekHigh              float64\n",
       "52WeekLow               float64\n",
       "PERatio                  object\n",
       "EPS                     float64\n",
       "DividendYield           float64\n",
       "MarketCapitalization      int64\n",
       "dtype: object"
      ]
     },
     "metadata": {},
     "execution_count": 70
    }
   ],
   "source": [
    "df_tree.dtypes"
   ]
  },
  {
   "cell_type": "code",
   "execution_count": 71,
   "metadata": {},
   "outputs": [
    {
     "output_type": "display_data",
     "data": {
      "application/vnd.plotly.v1+json": {
       "config": {
        "plotlyServerURL": "https://plot.ly"
       },
       "data": [
        {
         "branchvalues": "total",
         "customdata": [
          [
           9393703936
          ],
          [
           2166841147392
          ],
          [
           193813282816
          ],
          [
           192903643136
          ],
          [
           226259468288
          ],
          [
           1565879697408
          ],
          [
           291185590272
          ],
          [
           13425978368
          ],
          [
           89950887936
          ],
          [
           118613909504
          ],
          [
           147855441920
          ],
          [
           138804264960
          ],
          [
           22223720448
          ],
          [
           81364557824
          ],
          [
           39218307072
          ],
          [
           50645032960
          ],
          [
           197927698432
          ],
          [
           99817472000
          ],
          [
           179680428032
          ],
          [
           25700679680
          ],
          [
           170980655104
          ],
          [
           48633585664
          ],
          [
           38630559744
          ],
          [
           36426121216
          ],
          [
           48918339584
          ],
          [
           19938926592
          ],
          [
           38909042688
          ],
          [
           77819142144
          ],
          [
           68445241344
          ],
          [
           103980785664
          ],
          [
           297496870912
          ],
          [
           55910100992
          ],
          [
           218177519616
          ],
          [
           416283557888
          ],
          [
           427418583040
          ],
          [
           34432245760
          ],
          [
           7345233920
          ],
          [
           171036868608
          ],
          [
           123822866432
          ],
          [
           28409841664
          ],
          [
           341865529344
          ],
          [
           157665492992
          ],
          [
           22346743808
          ],
          [
           29656674304
          ],
          [
           25812441088
          ],
          [
           210220187648
          ],
          [
           137137364992
          ],
          [
           1624978227200
          ],
          [
           228669882368
          ],
          [
           23859259392
          ],
          [
           187939749888
          ],
          [
           206661320704
          ],
          [
           32209631232
          ],
          [
           17203290112
          ],
          [
           43189059584
          ],
          [
           120679833600
          ],
          [
           114999697408
          ],
          [
           36387663872
          ],
          [
           102597189632
          ],
          [
           204872499200
          ],
          [
           82123096064
          ],
          [
           197680005120
          ],
          [
           159728746496
          ],
          [
           805184995328
          ],
          [
           12900542464
          ],
          [
           339080151040
          ],
          [
           460413108224
          ],
          [
           24267522048
          ],
          [
           22659964928
          ],
          [
           236947030016
          ],
          [
           140324585472
          ],
          [
           202447650816
          ],
          [
           32480593920
          ],
          [
           102050160640
          ],
          [
           703598436352
          ],
          [
           3791712364544
          ],
          [
           700883750912
          ],
          [
           2274743418880
          ],
          [
           2561426386944
          ],
          [
           107609261056
          ],
          [
           4831787273216
          ]
         ],
         "domain": {
          "x": [
           0,
           1
          ],
          "y": [
           0,
           1
          ]
         },
         "hovertemplate": "labels=%{label}<br>MarketCapitalization=%{customdata[0]}<br>parent=%{parent}<br>id=%{id}<extra></extra>",
         "ids": [
          "Industrials/AAL",
          "Technology/AAPL",
          "Healthcare/ABBV",
          "Healthcare/ABT",
          "Technology/ADBE",
          "Consumer Cyclical/AMZN",
          "Financial Services/BAC",
          "Technology/BKI",
          "Consumer Cyclical/BKNG",
          "Financial Services/BLK",
          "Healthcare/BMY",
          "Financial Services/C",
          "Consumer Cyclical/CCL",
          "Healthcare/CI",
          "Consumer Cyclical/CMG",
          "Energy/COP",
          "Technology/CRM",
          "Healthcare/CVS",
          "Energy/CVX",
          "Industrials/DAL",
          "Healthcare/DHR",
          "Technology/DOCU",
          "Consumer Cyclical/EBAY",
          "Energy/EOG",
          "Energy/EPD",
          "Consumer Cyclical/EXPE",
          "Consumer Cyclical/F",
          "Healthcare/GILD",
          "Consumer Cyclical/GM",
          "Financial Services/GS",
          "Consumer Cyclical/HD",
          "Healthcare/HUM",
          "Technology/INTC",
          "Healthcare/JNJ",
          "Financial Services/JPM",
          "Energy/KMI",
          "Industrials/KNX",
          "Healthcare/LLY",
          "Consumer Cyclical/LOW",
          "Industrials/LUV",
          "Financial Services/MA",
          "Consumer Cyclical/MCD",
          "Technology/MDB",
          "Energy/MPC",
          "Energy/MPLX",
          "Healthcare/MRK",
          "Financial Services/MS",
          "Technology/MSFT",
          "Consumer Cyclical/NKE",
          "Industrials/ODFL",
          "Technology/ORCL",
          "Healthcare/PFE",
          "Energy/PSX",
          "Consumer Cyclical/RCL",
          "Consumer Cyclical/ROST",
          "Consumer Cyclical/SBUX",
          "Financial Services/SCHW",
          "Energy/SLB",
          "Technology/SQ",
          "Communication Services/T",
          "Consumer Cyclical/TJX",
          "Healthcare/TMO",
          "Communication Services/TMUS",
          "Consumer Cyclical/TSLA",
          "Industrials/UAL",
          "Healthcare/UNH",
          "Financial Services/V",
          "Energy/VLO",
          "Technology/VRSN",
          "Communication Services/VZ",
          "Financial Services/WFC",
          "Energy/XOM",
          "Consumer Cyclical/YUM",
          "Communication Services/ZM",
          "Communication Services",
          "Consumer Cyclical",
          "Energy",
          "Financial Services",
          "Healthcare",
          "Industrials",
          "Technology"
         ],
         "labels": [
          "AAL",
          "AAPL",
          "ABBV",
          "ABT",
          "ADBE",
          "AMZN",
          "BAC",
          "BKI",
          "BKNG",
          "BLK",
          "BMY",
          "C",
          "CCL",
          "CI",
          "CMG",
          "COP",
          "CRM",
          "CVS",
          "CVX",
          "DAL",
          "DHR",
          "DOCU",
          "EBAY",
          "EOG",
          "EPD",
          "EXPE",
          "F",
          "GILD",
          "GM",
          "GS",
          "HD",
          "HUM",
          "INTC",
          "JNJ",
          "JPM",
          "KMI",
          "KNX",
          "LLY",
          "LOW",
          "LUV",
          "MA",
          "MCD",
          "MDB",
          "MPC",
          "MPLX",
          "MRK",
          "MS",
          "MSFT",
          "NKE",
          "ODFL",
          "ORCL",
          "PFE",
          "PSX",
          "RCL",
          "ROST",
          "SBUX",
          "SCHW",
          "SLB",
          "SQ",
          "T",
          "TJX",
          "TMO",
          "TMUS",
          "TSLA",
          "UAL",
          "UNH",
          "V",
          "VLO",
          "VRSN",
          "VZ",
          "WFC",
          "XOM",
          "YUM",
          "ZM",
          "Communication Services",
          "Consumer Cyclical",
          "Energy",
          "Financial Services",
          "Healthcare",
          "Industrials",
          "Technology"
         ],
         "name": "",
         "parents": [
          "Industrials",
          "Technology",
          "Healthcare",
          "Healthcare",
          "Technology",
          "Consumer Cyclical",
          "Financial Services",
          "Technology",
          "Consumer Cyclical",
          "Financial Services",
          "Healthcare",
          "Financial Services",
          "Consumer Cyclical",
          "Healthcare",
          "Consumer Cyclical",
          "Energy",
          "Technology",
          "Healthcare",
          "Energy",
          "Industrials",
          "Healthcare",
          "Technology",
          "Consumer Cyclical",
          "Energy",
          "Energy",
          "Consumer Cyclical",
          "Consumer Cyclical",
          "Healthcare",
          "Consumer Cyclical",
          "Financial Services",
          "Consumer Cyclical",
          "Healthcare",
          "Technology",
          "Healthcare",
          "Financial Services",
          "Energy",
          "Industrials",
          "Healthcare",
          "Consumer Cyclical",
          "Industrials",
          "Financial Services",
          "Consumer Cyclical",
          "Technology",
          "Energy",
          "Energy",
          "Healthcare",
          "Financial Services",
          "Technology",
          "Consumer Cyclical",
          "Industrials",
          "Technology",
          "Healthcare",
          "Energy",
          "Consumer Cyclical",
          "Consumer Cyclical",
          "Consumer Cyclical",
          "Financial Services",
          "Energy",
          "Technology",
          "Communication Services",
          "Consumer Cyclical",
          "Healthcare",
          "Communication Services",
          "Consumer Cyclical",
          "Industrials",
          "Healthcare",
          "Financial Services",
          "Energy",
          "Technology",
          "Communication Services",
          "Financial Services",
          "Energy",
          "Consumer Cyclical",
          "Communication Services",
          "",
          "",
          "",
          "",
          "",
          "",
          ""
         ],
         "type": "treemap",
         "values": [
          9393703936,
          2166841147392,
          193813282816,
          192903643136,
          226259468288,
          1565879697408,
          291185590272,
          13425978368,
          89950887936,
          118613909504,
          147855441920,
          138804264960,
          22223720448,
          81364557824,
          39218307072,
          50645032960,
          197927698432,
          99817472000,
          179680428032,
          25700679680,
          170980655104,
          48633585664,
          38630559744,
          36426121216,
          48918339584,
          19938926592,
          38909042688,
          77819142144,
          68445241344,
          103980785664,
          297496870912,
          55910100992,
          218177519616,
          416283557888,
          427418583040,
          34432245760,
          7345233920,
          171036868608,
          123822866432,
          28409841664,
          341865529344,
          157665492992,
          22346743808,
          29656674304,
          25812441088,
          210220187648,
          137137364992,
          1624978227200,
          228669882368,
          23859259392,
          187939749888,
          206661320704,
          32209631232,
          17203290112,
          43189059584,
          120679833600,
          114999697408,
          36387663872,
          102597189632,
          204872499200,
          82123096064,
          197680005120,
          159728746496,
          805184995328,
          12900542464,
          339080151040,
          460413108224,
          24267522048,
          22659964928,
          236947030016,
          140324585472,
          202447650816,
          32480593920,
          102050160640,
          703598436352,
          3791712364544,
          700883750912,
          2274743418880,
          2561426386944,
          107609261056,
          4831787273216
         ]
        }
       ],
       "layout": {
        "legend": {
         "tracegroupgap": 0
        },
        "template": {
         "data": {
          "bar": [
           {
            "error_x": {
             "color": "#2a3f5f"
            },
            "error_y": {
             "color": "#2a3f5f"
            },
            "marker": {
             "line": {
              "color": "#E5ECF6",
              "width": 0.5
             }
            },
            "type": "bar"
           }
          ],
          "barpolar": [
           {
            "marker": {
             "line": {
              "color": "#E5ECF6",
              "width": 0.5
             }
            },
            "type": "barpolar"
           }
          ],
          "carpet": [
           {
            "aaxis": {
             "endlinecolor": "#2a3f5f",
             "gridcolor": "white",
             "linecolor": "white",
             "minorgridcolor": "white",
             "startlinecolor": "#2a3f5f"
            },
            "baxis": {
             "endlinecolor": "#2a3f5f",
             "gridcolor": "white",
             "linecolor": "white",
             "minorgridcolor": "white",
             "startlinecolor": "#2a3f5f"
            },
            "type": "carpet"
           }
          ],
          "choropleth": [
           {
            "colorbar": {
             "outlinewidth": 0,
             "ticks": ""
            },
            "type": "choropleth"
           }
          ],
          "contour": [
           {
            "colorbar": {
             "outlinewidth": 0,
             "ticks": ""
            },
            "colorscale": [
             [
              0,
              "#0d0887"
             ],
             [
              0.1111111111111111,
              "#46039f"
             ],
             [
              0.2222222222222222,
              "#7201a8"
             ],
             [
              0.3333333333333333,
              "#9c179e"
             ],
             [
              0.4444444444444444,
              "#bd3786"
             ],
             [
              0.5555555555555556,
              "#d8576b"
             ],
             [
              0.6666666666666666,
              "#ed7953"
             ],
             [
              0.7777777777777778,
              "#fb9f3a"
             ],
             [
              0.8888888888888888,
              "#fdca26"
             ],
             [
              1,
              "#f0f921"
             ]
            ],
            "type": "contour"
           }
          ],
          "contourcarpet": [
           {
            "colorbar": {
             "outlinewidth": 0,
             "ticks": ""
            },
            "type": "contourcarpet"
           }
          ],
          "heatmap": [
           {
            "colorbar": {
             "outlinewidth": 0,
             "ticks": ""
            },
            "colorscale": [
             [
              0,
              "#0d0887"
             ],
             [
              0.1111111111111111,
              "#46039f"
             ],
             [
              0.2222222222222222,
              "#7201a8"
             ],
             [
              0.3333333333333333,
              "#9c179e"
             ],
             [
              0.4444444444444444,
              "#bd3786"
             ],
             [
              0.5555555555555556,
              "#d8576b"
             ],
             [
              0.6666666666666666,
              "#ed7953"
             ],
             [
              0.7777777777777778,
              "#fb9f3a"
             ],
             [
              0.8888888888888888,
              "#fdca26"
             ],
             [
              1,
              "#f0f921"
             ]
            ],
            "type": "heatmap"
           }
          ],
          "heatmapgl": [
           {
            "colorbar": {
             "outlinewidth": 0,
             "ticks": ""
            },
            "colorscale": [
             [
              0,
              "#0d0887"
             ],
             [
              0.1111111111111111,
              "#46039f"
             ],
             [
              0.2222222222222222,
              "#7201a8"
             ],
             [
              0.3333333333333333,
              "#9c179e"
             ],
             [
              0.4444444444444444,
              "#bd3786"
             ],
             [
              0.5555555555555556,
              "#d8576b"
             ],
             [
              0.6666666666666666,
              "#ed7953"
             ],
             [
              0.7777777777777778,
              "#fb9f3a"
             ],
             [
              0.8888888888888888,
              "#fdca26"
             ],
             [
              1,
              "#f0f921"
             ]
            ],
            "type": "heatmapgl"
           }
          ],
          "histogram": [
           {
            "marker": {
             "colorbar": {
              "outlinewidth": 0,
              "ticks": ""
             }
            },
            "type": "histogram"
           }
          ],
          "histogram2d": [
           {
            "colorbar": {
             "outlinewidth": 0,
             "ticks": ""
            },
            "colorscale": [
             [
              0,
              "#0d0887"
             ],
             [
              0.1111111111111111,
              "#46039f"
             ],
             [
              0.2222222222222222,
              "#7201a8"
             ],
             [
              0.3333333333333333,
              "#9c179e"
             ],
             [
              0.4444444444444444,
              "#bd3786"
             ],
             [
              0.5555555555555556,
              "#d8576b"
             ],
             [
              0.6666666666666666,
              "#ed7953"
             ],
             [
              0.7777777777777778,
              "#fb9f3a"
             ],
             [
              0.8888888888888888,
              "#fdca26"
             ],
             [
              1,
              "#f0f921"
             ]
            ],
            "type": "histogram2d"
           }
          ],
          "histogram2dcontour": [
           {
            "colorbar": {
             "outlinewidth": 0,
             "ticks": ""
            },
            "colorscale": [
             [
              0,
              "#0d0887"
             ],
             [
              0.1111111111111111,
              "#46039f"
             ],
             [
              0.2222222222222222,
              "#7201a8"
             ],
             [
              0.3333333333333333,
              "#9c179e"
             ],
             [
              0.4444444444444444,
              "#bd3786"
             ],
             [
              0.5555555555555556,
              "#d8576b"
             ],
             [
              0.6666666666666666,
              "#ed7953"
             ],
             [
              0.7777777777777778,
              "#fb9f3a"
             ],
             [
              0.8888888888888888,
              "#fdca26"
             ],
             [
              1,
              "#f0f921"
             ]
            ],
            "type": "histogram2dcontour"
           }
          ],
          "mesh3d": [
           {
            "colorbar": {
             "outlinewidth": 0,
             "ticks": ""
            },
            "type": "mesh3d"
           }
          ],
          "parcoords": [
           {
            "line": {
             "colorbar": {
              "outlinewidth": 0,
              "ticks": ""
             }
            },
            "type": "parcoords"
           }
          ],
          "pie": [
           {
            "automargin": true,
            "type": "pie"
           }
          ],
          "scatter": [
           {
            "marker": {
             "colorbar": {
              "outlinewidth": 0,
              "ticks": ""
             }
            },
            "type": "scatter"
           }
          ],
          "scatter3d": [
           {
            "line": {
             "colorbar": {
              "outlinewidth": 0,
              "ticks": ""
             }
            },
            "marker": {
             "colorbar": {
              "outlinewidth": 0,
              "ticks": ""
             }
            },
            "type": "scatter3d"
           }
          ],
          "scattercarpet": [
           {
            "marker": {
             "colorbar": {
              "outlinewidth": 0,
              "ticks": ""
             }
            },
            "type": "scattercarpet"
           }
          ],
          "scattergeo": [
           {
            "marker": {
             "colorbar": {
              "outlinewidth": 0,
              "ticks": ""
             }
            },
            "type": "scattergeo"
           }
          ],
          "scattergl": [
           {
            "marker": {
             "colorbar": {
              "outlinewidth": 0,
              "ticks": ""
             }
            },
            "type": "scattergl"
           }
          ],
          "scattermapbox": [
           {
            "marker": {
             "colorbar": {
              "outlinewidth": 0,
              "ticks": ""
             }
            },
            "type": "scattermapbox"
           }
          ],
          "scatterpolar": [
           {
            "marker": {
             "colorbar": {
              "outlinewidth": 0,
              "ticks": ""
             }
            },
            "type": "scatterpolar"
           }
          ],
          "scatterpolargl": [
           {
            "marker": {
             "colorbar": {
              "outlinewidth": 0,
              "ticks": ""
             }
            },
            "type": "scatterpolargl"
           }
          ],
          "scatterternary": [
           {
            "marker": {
             "colorbar": {
              "outlinewidth": 0,
              "ticks": ""
             }
            },
            "type": "scatterternary"
           }
          ],
          "surface": [
           {
            "colorbar": {
             "outlinewidth": 0,
             "ticks": ""
            },
            "colorscale": [
             [
              0,
              "#0d0887"
             ],
             [
              0.1111111111111111,
              "#46039f"
             ],
             [
              0.2222222222222222,
              "#7201a8"
             ],
             [
              0.3333333333333333,
              "#9c179e"
             ],
             [
              0.4444444444444444,
              "#bd3786"
             ],
             [
              0.5555555555555556,
              "#d8576b"
             ],
             [
              0.6666666666666666,
              "#ed7953"
             ],
             [
              0.7777777777777778,
              "#fb9f3a"
             ],
             [
              0.8888888888888888,
              "#fdca26"
             ],
             [
              1,
              "#f0f921"
             ]
            ],
            "type": "surface"
           }
          ],
          "table": [
           {
            "cells": {
             "fill": {
              "color": "#EBF0F8"
             },
             "line": {
              "color": "white"
             }
            },
            "header": {
             "fill": {
              "color": "#C8D4E3"
             },
             "line": {
              "color": "white"
             }
            },
            "type": "table"
           }
          ]
         },
         "layout": {
          "annotationdefaults": {
           "arrowcolor": "#2a3f5f",
           "arrowhead": 0,
           "arrowwidth": 1
          },
          "autotypenumbers": "strict",
          "coloraxis": {
           "colorbar": {
            "outlinewidth": 0,
            "ticks": ""
           }
          },
          "colorscale": {
           "diverging": [
            [
             0,
             "#8e0152"
            ],
            [
             0.1,
             "#c51b7d"
            ],
            [
             0.2,
             "#de77ae"
            ],
            [
             0.3,
             "#f1b6da"
            ],
            [
             0.4,
             "#fde0ef"
            ],
            [
             0.5,
             "#f7f7f7"
            ],
            [
             0.6,
             "#e6f5d0"
            ],
            [
             0.7,
             "#b8e186"
            ],
            [
             0.8,
             "#7fbc41"
            ],
            [
             0.9,
             "#4d9221"
            ],
            [
             1,
             "#276419"
            ]
           ],
           "sequential": [
            [
             0,
             "#0d0887"
            ],
            [
             0.1111111111111111,
             "#46039f"
            ],
            [
             0.2222222222222222,
             "#7201a8"
            ],
            [
             0.3333333333333333,
             "#9c179e"
            ],
            [
             0.4444444444444444,
             "#bd3786"
            ],
            [
             0.5555555555555556,
             "#d8576b"
            ],
            [
             0.6666666666666666,
             "#ed7953"
            ],
            [
             0.7777777777777778,
             "#fb9f3a"
            ],
            [
             0.8888888888888888,
             "#fdca26"
            ],
            [
             1,
             "#f0f921"
            ]
           ],
           "sequentialminus": [
            [
             0,
             "#0d0887"
            ],
            [
             0.1111111111111111,
             "#46039f"
            ],
            [
             0.2222222222222222,
             "#7201a8"
            ],
            [
             0.3333333333333333,
             "#9c179e"
            ],
            [
             0.4444444444444444,
             "#bd3786"
            ],
            [
             0.5555555555555556,
             "#d8576b"
            ],
            [
             0.6666666666666666,
             "#ed7953"
            ],
            [
             0.7777777777777778,
             "#fb9f3a"
            ],
            [
             0.8888888888888888,
             "#fdca26"
            ],
            [
             1,
             "#f0f921"
            ]
           ]
          },
          "colorway": [
           "#636efa",
           "#EF553B",
           "#00cc96",
           "#ab63fa",
           "#FFA15A",
           "#19d3f3",
           "#FF6692",
           "#B6E880",
           "#FF97FF",
           "#FECB52"
          ],
          "font": {
           "color": "#2a3f5f"
          },
          "geo": {
           "bgcolor": "white",
           "lakecolor": "white",
           "landcolor": "#E5ECF6",
           "showlakes": true,
           "showland": true,
           "subunitcolor": "white"
          },
          "hoverlabel": {
           "align": "left"
          },
          "hovermode": "closest",
          "mapbox": {
           "style": "light"
          },
          "paper_bgcolor": "white",
          "plot_bgcolor": "#E5ECF6",
          "polar": {
           "angularaxis": {
            "gridcolor": "white",
            "linecolor": "white",
            "ticks": ""
           },
           "bgcolor": "#E5ECF6",
           "radialaxis": {
            "gridcolor": "white",
            "linecolor": "white",
            "ticks": ""
           }
          },
          "scene": {
           "xaxis": {
            "backgroundcolor": "#E5ECF6",
            "gridcolor": "white",
            "gridwidth": 2,
            "linecolor": "white",
            "showbackground": true,
            "ticks": "",
            "zerolinecolor": "white"
           },
           "yaxis": {
            "backgroundcolor": "#E5ECF6",
            "gridcolor": "white",
            "gridwidth": 2,
            "linecolor": "white",
            "showbackground": true,
            "ticks": "",
            "zerolinecolor": "white"
           },
           "zaxis": {
            "backgroundcolor": "#E5ECF6",
            "gridcolor": "white",
            "gridwidth": 2,
            "linecolor": "white",
            "showbackground": true,
            "ticks": "",
            "zerolinecolor": "white"
           }
          },
          "shapedefaults": {
           "line": {
            "color": "#2a3f5f"
           }
          },
          "ternary": {
           "aaxis": {
            "gridcolor": "white",
            "linecolor": "white",
            "ticks": ""
           },
           "baxis": {
            "gridcolor": "white",
            "linecolor": "white",
            "ticks": ""
           },
           "bgcolor": "#E5ECF6",
           "caxis": {
            "gridcolor": "white",
            "linecolor": "white",
            "ticks": ""
           }
          },
          "title": {
           "x": 0.05
          },
          "xaxis": {
           "automargin": true,
           "gridcolor": "white",
           "linecolor": "white",
           "ticks": "",
           "title": {
            "standoff": 15
           },
           "zerolinecolor": "white",
           "zerolinewidth": 2
          },
          "yaxis": {
           "automargin": true,
           "gridcolor": "white",
           "linecolor": "white",
           "ticks": "",
           "title": {
            "standoff": 15
           },
           "zerolinecolor": "white",
           "zerolinewidth": 2
          }
         }
        },
        "title": {
         "text": "Sectors and Symbols of Companies during COVID-19"
        },
        "treemapcolorway": [
         "green",
         "lightgreen"
        ]
       }
      }
     },
     "metadata": {}
    }
   ],
   "source": [
    "data2 = px.treemap(\n",
    "    data_frame = df_tree,\n",
    "    path = ['Sector','Symbol'],\n",
    "    values = df_tree[\"MarketCapitalization\"],\n",
    "    title = \"Sectors and Symbols of Companies during COVID-19\",\n",
    "    hover_data = ['MarketCapitalization']\n",
    ")\n",
    "\n",
    "fig = go.Figure(data=data2)\n",
    "fig.update_layout(treemapcolorway=['green', 'lightgreen'])\n",
    "\n",
    "fig.show()"
   ]
  },
  {
   "cell_type": "code",
   "execution_count": null,
   "metadata": {},
   "outputs": [],
   "source": []
  }
 ]
}
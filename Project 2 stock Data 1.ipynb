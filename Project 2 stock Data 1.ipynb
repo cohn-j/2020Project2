{
 "cells": [
  {
   "cell_type": "code",
   "execution_count": 16,
   "metadata": {},
   "outputs": [],
   "source": [
    "import requests\n",
    "import pandas as pd"
   ]
  },
  {
   "cell_type": "code",
   "execution_count": 17,
   "metadata": {},
   "outputs": [],
   "source": [
    "API_URL = \"https://www.alphavantage.co/query\" \n",
    "symbol = ['XOM']"
   ]
  },
  {
   "cell_type": "code",
   "execution_count": null,
   "metadata": {},
   "outputs": [],
   "source": []
  },
  {
   "cell_type": "code",
   "execution_count": 18,
   "metadata": {},
   "outputs": [],
   "source": [
    "data = { \"function\": \"TIME_SERIES_MONTHLY\", \n",
    "\"symbol\": symbol,\n",
    "\"outputsize\" : \"full\",\n",
    "\"datatype\": \"json\", \n",
    "\"apikey\": \"input APIKey\" }"
   ]
  },
  {
   "cell_type": "code",
   "execution_count": 19,
   "metadata": {},
   "outputs": [],
   "source": [
    "response = requests.get(API_URL, data) \n",
    "response_json = response.json() # maybe redundant"
   ]
  },
  {
   "cell_type": "code",
   "execution_count": 20,
   "metadata": {},
   "outputs": [
    {
     "data": {
      "text/html": [
       "<div>\n",
       "<style scoped>\n",
       "    .dataframe tbody tr th:only-of-type {\n",
       "        vertical-align: middle;\n",
       "    }\n",
       "\n",
       "    .dataframe tbody tr th {\n",
       "        vertical-align: top;\n",
       "    }\n",
       "\n",
       "    .dataframe thead th {\n",
       "        text-align: right;\n",
       "    }\n",
       "</style>\n",
       "<table border=\"1\" class=\"dataframe\">\n",
       "  <thead>\n",
       "    <tr style=\"text-align: right;\">\n",
       "      <th></th>\n",
       "      <th>Open</th>\n",
       "      <th>High</th>\n",
       "      <th>Low</th>\n",
       "      <th>Close</th>\n",
       "      <th>Volume</th>\n",
       "    </tr>\n",
       "  </thead>\n",
       "  <tbody>\n",
       "    <tr>\n",
       "      <th>2021-01-08</th>\n",
       "      <td>85.1500</td>\n",
       "      <td>92.4300</td>\n",
       "      <td>83.8900</td>\n",
       "      <td>91.0800</td>\n",
       "      <td>56665909</td>\n",
       "    </tr>\n",
       "    <tr>\n",
       "      <th>2020-12-31</th>\n",
       "      <td>89.2800</td>\n",
       "      <td>94.5600</td>\n",
       "      <td>83.5300</td>\n",
       "      <td>84.4500</td>\n",
       "      <td>224670987</td>\n",
       "    </tr>\n",
       "    <tr>\n",
       "      <th>2020-11-30</th>\n",
       "      <td>70.7000</td>\n",
       "      <td>95.8200</td>\n",
       "      <td>69.4000</td>\n",
       "      <td>87.1800</td>\n",
       "      <td>241388094</td>\n",
       "    </tr>\n",
       "    <tr>\n",
       "      <th>2020-10-30</th>\n",
       "      <td>71.5100</td>\n",
       "      <td>76.0900</td>\n",
       "      <td>65.1600</td>\n",
       "      <td>69.5000</td>\n",
       "      <td>251171694</td>\n",
       "    </tr>\n",
       "    <tr>\n",
       "      <th>2020-09-30</th>\n",
       "      <td>83.2600</td>\n",
       "      <td>84.4900</td>\n",
       "      <td>70.5000</td>\n",
       "      <td>72.0000</td>\n",
       "      <td>256445094</td>\n",
       "    </tr>\n",
       "  </tbody>\n",
       "</table>\n",
       "</div>"
      ],
      "text/plain": [
       "               Open     High      Low    Close     Volume\n",
       "2021-01-08  85.1500  92.4300  83.8900  91.0800   56665909\n",
       "2020-12-31  89.2800  94.5600  83.5300  84.4500  224670987\n",
       "2020-11-30  70.7000  95.8200  69.4000  87.1800  241388094\n",
       "2020-10-30  71.5100  76.0900  65.1600  69.5000  251171694\n",
       "2020-09-30  83.2600  84.4900  70.5000  72.0000  256445094"
      ]
     },
     "execution_count": 20,
     "metadata": {},
     "output_type": "execute_result"
    }
   ],
   "source": [
    "data = pd.DataFrame.from_dict(response_json['Monthly Time Series'], orient= 'index').sort_index(axis=1)\n",
    "data = data.rename(columns={ '1. open': 'Open', '2. high': 'High', '3. low': 'Low', '4. close': 'Close', '5. volume': 'Volume'})\n",
    "data = data[[ 'Open', 'High', 'Low', 'Close', 'Volume']]\n",
    "data.head() # check OK or not"
   ]
  },
  {
   "cell_type": "code",
   "execution_count": null,
   "metadata": {},
   "outputs": [],
   "source": []
  }
 ],
 "metadata": {
  "kernelspec": {
   "display_name": "Python 3",
   "language": "python",
   "name": "python3"
  },
  "language_info": {
   "codemirror_mode": {
    "name": "ipython",
    "version": 3
   },
   "file_extension": ".py",
   "mimetype": "text/x-python",
   "name": "python",
   "nbconvert_exporter": "python",
   "pygments_lexer": "ipython3",
   "version": "3.8.3"
  },
  "varInspector": {
   "cols": {
    "lenName": 16,
    "lenType": 16,
    "lenVar": 40
   },
   "kernels_config": {
    "python": {
     "delete_cmd_postfix": "",
     "delete_cmd_prefix": "del ",
     "library": "var_list.py",
     "varRefreshCmd": "print(var_dic_list())"
    },
    "r": {
     "delete_cmd_postfix": ") ",
     "delete_cmd_prefix": "rm(",
     "library": "var_list.r",
     "varRefreshCmd": "cat(var_dic_list()) "
    }
   },
   "types_to_exclude": [
    "module",
    "function",
    "builtin_function_or_method",
    "instance",
    "_Feature"
   ],
   "window_display": false
  }
 },
 "nbformat": 4,
 "nbformat_minor": 2
}

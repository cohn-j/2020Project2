{
 "cells": [
  {
   "cell_type": "code",
   "execution_count": 32,
   "metadata": {},
   "outputs": [],
   "source": [
    "#import dependencies\n",
    "import json\n",
    "import time\n",
    "import requests\n",
    "import numpy as np\n",
    "import pandas as pd\n",
    "from splinter import Browser\n",
    "from selenium import webdriver\n",
    "from webdriver_manager.chrome import ChromeDriverManager\n",
    "import requests\n",
    "import glob\n",
    "from io import StringIO\n",
    "\n",
    "#import API Key:\n",
    "from alphavantage_apikey import apikey"
   ]
  },
  {
   "cell_type": "code",
   "execution_count": null,
   "metadata": {},
   "outputs": [],
   "source": [
    "#read in .csv of tickers identified for project:\n",
    "df = pd.read_csv(\"stock_tickers_and_sectors.csv\")\n",
    "df.head()"
   ]
  },
  {
   "cell_type": "code",
   "execution_count": null,
   "metadata": {},
   "outputs": [],
   "source": [
    "#create array of tickers based on the ticker column from the .csv:\n",
    "tickers = []\n",
    "\n",
    "for ticker in df[\"ticker\"]:\n",
    "    tickers.append(ticker)"
   ]
  },
  {
   "cell_type": "code",
   "execution_count": null,
   "metadata": {},
   "outputs": [],
   "source": [
    "print(tickers)"
   ]
  },
  {
   "cell_type": "code",
   "execution_count": 27,
   "metadata": {
    "tags": [
     "outputPrepend"
    ]
   },
   "outputs": [
    {
     "output_type": "stream",
     "name": "stdout",
     "text": [
      "JEE1BAJPVI9N&datatype=csv&symbol=MPC', 'https://www.alphavantage.co/query?function=TIME_SERIES_MONTHLY&apikey=ALA2JEE1BAJPVI9N&datatype=csv&symbol=MPLX', 'https://www.alphavantage.co/query?function=TIME_SERIES_MONTHLY&apikey=ALA2JEE1BAJPVI9N&datatype=csv&symbol=VLO', 'https://www.alphavantage.co/query?function=TIME_SERIES_MONTHLY&apikey=ALA2JEE1BAJPVI9N&datatype=csv&symbol=TSLA', 'https://www.alphavantage.co/query?function=TIME_SERIES_MONTHLY&apikey=ALA2JEE1BAJPVI9N&datatype=csv&symbol=F', 'https://www.alphavantage.co/query?function=TIME_SERIES_MONTHLY&apikey=ALA2JEE1BAJPVI9N&datatype=csv&symbol=GM', 'https://www.alphavantage.co/query?function=TIME_SERIES_MONTHLY&apikey=ALA2JEE1BAJPVI9N&datatype=csv&symbol=DAL', 'https://www.alphavantage.co/query?function=TIME_SERIES_MONTHLY&apikey=ALA2JEE1BAJPVI9N&datatype=csv&symbol=LUV', 'https://www.alphavantage.co/query?function=TIME_SERIES_MONTHLY&apikey=ALA2JEE1BAJPVI9N&datatype=csv&symbol=UAL', 'https://www.alphavantage.co/query?function=TIME_SERIES_MONTHLY&apikey=ALA2JEE1BAJPVI9N&datatype=csv&symbol=AAL', 'https://www.alphavantage.co/query?function=TIME_SERIES_MONTHLY&apikey=ALA2JEE1BAJPVI9N&datatype=csv&symbol=ODFL', 'https://www.alphavantage.co/query?function=TIME_SERIES_MONTHLY&apikey=ALA2JEE1BAJPVI9N&datatype=csv&symbol=KNX', 'https://www.alphavantage.co/query?function=TIME_SERIES_MONTHLY&apikey=ALA2JEE1BAJPVI9N&datatype=csv&symbol=CCL', 'https://www.alphavantage.co/query?function=TIME_SERIES_MONTHLY&apikey=ALA2JEE1BAJPVI9N&datatype=csv&symbol=RCL', 'https://www.alphavantage.co/query?function=TIME_SERIES_MONTHLY&apikey=ALA2JEE1BAJPVI9N&datatype=csv&symbol=EXPE', 'https://www.alphavantage.co/query?function=TIME_SERIES_MONTHLY&apikey=ALA2JEE1BAJPVI9N&datatype=csv&symbol=BKNG', 'https://www.alphavantage.co/query?function=TIME_SERIES_MONTHLY&apikey=ALA2JEE1BAJPVI9N&datatype=csv&symbol=T', 'https://www.alphavantage.co/query?function=TIME_SERIES_MONTHLY&apikey=ALA2JEE1BAJPVI9N&datatype=csv&symbol=VZ', 'https://www.alphavantage.co/query?function=TIME_SERIES_MONTHLY&apikey=ALA2JEE1BAJPVI9N&datatype=csv&symbol=TMUS', 'https://www.alphavantage.co/query?function=TIME_SERIES_MONTHLY&apikey=ALA2JEE1BAJPVI9N&datatype=csv&symbol=ZM', 'https://www.alphavantage.co/query?function=TIME_SERIES_MONTHLY&apikey=ALA2JEE1BAJPVI9N&datatype=csv&symbol=ADBE', 'https://www.alphavantage.co/query?function=TIME_SERIES_MONTHLY&apikey=ALA2JEE1BAJPVI9N&datatype=csv&symbol=MSFT', 'https://www.alphavantage.co/query?function=TIME_SERIES_MONTHLY&apikey=ALA2JEE1BAJPVI9N&datatype=csv&symbol=ORCL', 'https://www.alphavantage.co/query?function=TIME_SERIES_MONTHLY&apikey=ALA2JEE1BAJPVI9N&datatype=csv&symbol=BKI', 'https://www.alphavantage.co/query?function=TIME_SERIES_MONTHLY&apikey=ALA2JEE1BAJPVI9N&datatype=csv&symbol=MDB', 'https://www.alphavantage.co/query?function=TIME_SERIES_MONTHLY&apikey=ALA2JEE1BAJPVI9N&datatype=csv&symbol=VRSN', 'https://www.alphavantage.co/query?function=TIME_SERIES_MONTHLY&apikey=ALA2JEE1BAJPVI9N&datatype=csv&symbol=SQ', 'https://www.alphavantage.co/query?function=TIME_SERIES_MONTHLY&apikey=ALA2JEE1BAJPVI9N&datatype=csv&symbol=AAPL', 'https://www.alphavantage.co/query?function=TIME_SERIES_MONTHLY&apikey=ALA2JEE1BAJPVI9N&datatype=csv&symbol=INTC']\n['https://www.alphavantage.co/query?function=TIME_SERIES_MONTHLY&apikey=ALA2JEE1BAJPVI9N&datatype=csv&symbol=JPM', 'https://www.alphavantage.co/query?function=TIME_SERIES_MONTHLY&apikey=ALA2JEE1BAJPVI9N&datatype=csv&symbol=BAC', 'https://www.alphavantage.co/query?function=TIME_SERIES_MONTHLY&apikey=ALA2JEE1BAJPVI9N&datatype=csv&symbol=V', 'https://www.alphavantage.co/query?function=TIME_SERIES_MONTHLY&apikey=ALA2JEE1BAJPVI9N&datatype=csv&symbol=MA', 'https://www.alphavantage.co/query?function=TIME_SERIES_MONTHLY&apikey=ALA2JEE1BAJPVI9N&datatype=csv&symbol=C', 'https://www.alphavantage.co/query?function=TIME_SERIES_MONTHLY&apikey=ALA2JEE1BAJPVI9N&datatype=csv&symbol=WFC', 'https://www.alphavantage.co/query?function=TIME_SERIES_MONTHLY&apikey=ALA2JEE1BAJPVI9N&datatype=csv&symbol=MS', 'https://www.alphavantage.co/query?function=TIME_SERIES_MONTHLY&apikey=ALA2JEE1BAJPVI9N&datatype=csv&symbol=BLK', 'https://www.alphavantage.co/query?function=TIME_SERIES_MONTHLY&apikey=ALA2JEE1BAJPVI9N&datatype=csv&symbol=SCHW', 'https://www.alphavantage.co/query?function=TIME_SERIES_MONTHLY&apikey=ALA2JEE1BAJPVI9N&datatype=csv&symbol=GS', 'https://www.alphavantage.co/query?function=TIME_SERIES_MONTHLY&apikey=ALA2JEE1BAJPVI9N&datatype=csv&symbol=JNJ', 'https://www.alphavantage.co/query?function=TIME_SERIES_MONTHLY&apikey=ALA2JEE1BAJPVI9N&datatype=csv&symbol=UNH', 'https://www.alphavantage.co/query?function=TIME_SERIES_MONTHLY&apikey=ALA2JEE1BAJPVI9N&datatype=csv&symbol=MRK', 'https://www.alphavantage.co/query?function=TIME_SERIES_MONTHLY&apikey=ALA2JEE1BAJPVI9N&datatype=csv&symbol=PFE', 'https://www.alphavantage.co/query?function=TIME_SERIES_MONTHLY&apikey=ALA2JEE1BAJPVI9N&datatype=csv&symbol=ABT', 'https://www.alphavantage.co/query?function=TIME_SERIES_MONTHLY&apikey=ALA2JEE1BAJPVI9N&datatype=csv&symbol=TMO', 'https://www.alphavantage.co/query?function=TIME_SERIES_MONTHLY&apikey=ALA2JEE1BAJPVI9N&datatype=csv&symbol=ABBV', 'https://www.alphavantage.co/query?function=TIME_SERIES_MONTHLY&apikey=ALA2JEE1BAJPVI9N&datatype=csv&symbol=DHR', 'https://www.alphavantage.co/query?function=TIME_SERIES_MONTHLY&apikey=ALA2JEE1BAJPVI9N&datatype=csv&symbol=LLY', 'https://www.alphavantage.co/query?function=TIME_SERIES_MONTHLY&apikey=ALA2JEE1BAJPVI9N&datatype=csv&symbol=BMY', 'https://www.alphavantage.co/query?function=TIME_SERIES_MONTHLY&apikey=ALA2JEE1BAJPVI9N&datatype=csv&symbol=CVS', 'https://www.alphavantage.co/query?function=TIME_SERIES_MONTHLY&apikey=ALA2JEE1BAJPVI9N&datatype=csv&symbol=GILD', 'https://www.alphavantage.co/query?function=TIME_SERIES_MONTHLY&apikey=ALA2JEE1BAJPVI9N&datatype=csv&symbol=CI', 'https://www.alphavantage.co/query?function=TIME_SERIES_MONTHLY&apikey=ALA2JEE1BAJPVI9N&datatype=csv&symbol=HUM', 'https://www.alphavantage.co/query?function=TIME_SERIES_MONTHLY&apikey=ALA2JEE1BAJPVI9N&datatype=csv&symbol=AMZN', 'https://www.alphavantage.co/query?function=TIME_SERIES_MONTHLY&apikey=ALA2JEE1BAJPVI9N&datatype=csv&symbol=HD', 'https://www.alphavantage.co/query?function=TIME_SERIES_MONTHLY&apikey=ALA2JEE1BAJPVI9N&datatype=csv&symbol=NKE', 'https://www.alphavantage.co/query?function=TIME_SERIES_MONTHLY&apikey=ALA2JEE1BAJPVI9N&datatype=csv&symbol=MCD', 'https://www.alphavantage.co/query?function=TIME_SERIES_MONTHLY&apikey=ALA2JEE1BAJPVI9N&datatype=csv&symbol=SBUX', 'https://www.alphavantage.co/query?function=TIME_SERIES_MONTHLY&apikey=ALA2JEE1BAJPVI9N&datatype=csv&symbol=LOW', 'https://www.alphavantage.co/query?function=TIME_SERIES_MONTHLY&apikey=ALA2JEE1BAJPVI9N&datatype=csv&symbol=TJX', 'https://www.alphavantage.co/query?function=TIME_SERIES_MONTHLY&apikey=ALA2JEE1BAJPVI9N&datatype=csv&symbol=ROST', 'https://www.alphavantage.co/query?function=TIME_SERIES_MONTHLY&apikey=ALA2JEE1BAJPVI9N&datatype=csv&symbol=CMG', 'https://www.alphavantage.co/query?function=TIME_SERIES_MONTHLY&apikey=ALA2JEE1BAJPVI9N&datatype=csv&symbol=EBAY', 'https://www.alphavantage.co/query?function=TIME_SERIES_MONTHLY&apikey=ALA2JEE1BAJPVI9N&datatype=csv&symbol=YUM', 'https://www.alphavantage.co/query?function=TIME_SERIES_MONTHLY&apikey=ALA2JEE1BAJPVI9N&datatype=csv&symbol=XOM', 'https://www.alphavantage.co/query?function=TIME_SERIES_MONTHLY&apikey=ALA2JEE1BAJPVI9N&datatype=csv&symbol=CVX', 'https://www.alphavantage.co/query?function=TIME_SERIES_MONTHLY&apikey=ALA2JEE1BAJPVI9N&datatype=csv&symbol=COP', 'https://www.alphavantage.co/query?function=TIME_SERIES_MONTHLY&apikey=ALA2JEE1BAJPVI9N&datatype=csv&symbol=EPD', 'https://www.alphavantage.co/query?function=TIME_SERIES_MONTHLY&apikey=ALA2JEE1BAJPVI9N&datatype=csv&symbol=SLB', 'https://www.alphavantage.co/query?function=TIME_SERIES_MONTHLY&apikey=ALA2JEE1BAJPVI9N&datatype=csv&symbol=EOG', 'https://www.alphavantage.co/query?function=TIME_SERIES_MONTHLY&apikey=ALA2JEE1BAJPVI9N&datatype=csv&symbol=KMI', 'https://www.alphavantage.co/query?function=TIME_SERIES_MONTHLY&apikey=ALA2JEE1BAJPVI9N&datatype=csv&symbol=PSX', 'https://www.alphavantage.co/query?function=TIME_SERIES_MONTHLY&apikey=ALA2JEE1BAJPVI9N&datatype=csv&symbol=MPC', 'https://www.alphavantage.co/query?function=TIME_SERIES_MONTHLY&apikey=ALA2JEE1BAJPVI9N&datatype=csv&symbol=MPLX', 'https://www.alphavantage.co/query?function=TIME_SERIES_MONTHLY&apikey=ALA2JEE1BAJPVI9N&datatype=csv&symbol=VLO', 'https://www.alphavantage.co/query?function=TIME_SERIES_MONTHLY&apikey=ALA2JEE1BAJPVI9N&datatype=csv&symbol=TSLA', 'https://www.alphavantage.co/query?function=TIME_SERIES_MONTHLY&apikey=ALA2JEE1BAJPVI9N&datatype=csv&symbol=F', 'https://www.alphavantage.co/query?function=TIME_SERIES_MONTHLY&apikey=ALA2JEE1BAJPVI9N&datatype=csv&symbol=GM', 'https://www.alphavantage.co/query?function=TIME_SERIES_MONTHLY&apikey=ALA2JEE1BAJPVI9N&datatype=csv&symbol=DAL', 'https://www.alphavantage.co/query?function=TIME_SERIES_MONTHLY&apikey=ALA2JEE1BAJPVI9N&datatype=csv&symbol=LUV', 'https://www.alphavantage.co/query?function=TIME_SERIES_MONTHLY&apikey=ALA2JEE1BAJPVI9N&datatype=csv&symbol=UAL', 'https://www.alphavantage.co/query?function=TIME_SERIES_MONTHLY&apikey=ALA2JEE1BAJPVI9N&datatype=csv&symbol=AAL', 'https://www.alphavantage.co/query?function=TIME_SERIES_MONTHLY&apikey=ALA2JEE1BAJPVI9N&datatype=csv&symbol=ODFL', 'https://www.alphavantage.co/query?function=TIME_SERIES_MONTHLY&apikey=ALA2JEE1BAJPVI9N&datatype=csv&symbol=KNX', 'https://www.alphavantage.co/query?function=TIME_SERIES_MONTHLY&apikey=ALA2JEE1BAJPVI9N&datatype=csv&symbol=CCL', 'https://www.alphavantage.co/query?function=TIME_SERIES_MONTHLY&apikey=ALA2JEE1BAJPVI9N&datatype=csv&symbol=RCL', 'https://www.alphavantage.co/query?function=TIME_SERIES_MONTHLY&apikey=ALA2JEE1BAJPVI9N&datatype=csv&symbol=EXPE', 'https://www.alphavantage.co/query?function=TIME_SERIES_MONTHLY&apikey=ALA2JEE1BAJPVI9N&datatype=csv&symbol=BKNG', 'https://www.alphavantage.co/query?function=TIME_SERIES_MONTHLY&apikey=ALA2JEE1BAJPVI9N&datatype=csv&symbol=T', 'https://www.alphavantage.co/query?function=TIME_SERIES_MONTHLY&apikey=ALA2JEE1BAJPVI9N&datatype=csv&symbol=VZ', 'https://www.alphavantage.co/query?function=TIME_SERIES_MONTHLY&apikey=ALA2JEE1BAJPVI9N&datatype=csv&symbol=TMUS', 'https://www.alphavantage.co/query?function=TIME_SERIES_MONTHLY&apikey=ALA2JEE1BAJPVI9N&datatype=csv&symbol=ZM', 'https://www.alphavantage.co/query?function=TIME_SERIES_MONTHLY&apikey=ALA2JEE1BAJPVI9N&datatype=csv&symbol=ADBE', 'https://www.alphavantage.co/query?function=TIME_SERIES_MONTHLY&apikey=ALA2JEE1BAJPVI9N&datatype=csv&symbol=MSFT', 'https://www.alphavantage.co/query?function=TIME_SERIES_MONTHLY&apikey=ALA2JEE1BAJPVI9N&datatype=csv&symbol=ORCL', 'https://www.alphavantage.co/query?function=TIME_SERIES_MONTHLY&apikey=ALA2JEE1BAJPVI9N&datatype=csv&symbol=BKI', 'https://www.alphavantage.co/query?function=TIME_SERIES_MONTHLY&apikey=ALA2JEE1BAJPVI9N&datatype=csv&symbol=MDB', 'https://www.alphavantage.co/query?function=TIME_SERIES_MONTHLY&apikey=ALA2JEE1BAJPVI9N&datatype=csv&symbol=VRSN', 'https://www.alphavantage.co/query?function=TIME_SERIES_MONTHLY&apikey=ALA2JEE1BAJPVI9N&datatype=csv&symbol=SQ', 'https://www.alphavantage.co/query?function=TIME_SERIES_MONTHLY&apikey=ALA2JEE1BAJPVI9N&datatype=csv&symbol=AAPL', 'https://www.alphavantage.co/query?function=TIME_SERIES_MONTHLY&apikey=ALA2JEE1BAJPVI9N&datatype=csv&symbol=INTC', 'https://www.alphavantage.co/query?function=TIME_SERIES_MONTHLY&apikey=ALA2JEE1BAJPVI9N&datatype=csv&symbol=CRM']\n['https://www.alphavantage.co/query?function=TIME_SERIES_MONTHLY&apikey=ALA2JEE1BAJPVI9N&datatype=csv&symbol=JPM', 'https://www.alphavantage.co/query?function=TIME_SERIES_MONTHLY&apikey=ALA2JEE1BAJPVI9N&datatype=csv&symbol=BAC', 'https://www.alphavantage.co/query?function=TIME_SERIES_MONTHLY&apikey=ALA2JEE1BAJPVI9N&datatype=csv&symbol=V', 'https://www.alphavantage.co/query?function=TIME_SERIES_MONTHLY&apikey=ALA2JEE1BAJPVI9N&datatype=csv&symbol=MA', 'https://www.alphavantage.co/query?function=TIME_SERIES_MONTHLY&apikey=ALA2JEE1BAJPVI9N&datatype=csv&symbol=C', 'https://www.alphavantage.co/query?function=TIME_SERIES_MONTHLY&apikey=ALA2JEE1BAJPVI9N&datatype=csv&symbol=WFC', 'https://www.alphavantage.co/query?function=TIME_SERIES_MONTHLY&apikey=ALA2JEE1BAJPVI9N&datatype=csv&symbol=MS', 'https://www.alphavantage.co/query?function=TIME_SERIES_MONTHLY&apikey=ALA2JEE1BAJPVI9N&datatype=csv&symbol=BLK', 'https://www.alphavantage.co/query?function=TIME_SERIES_MONTHLY&apikey=ALA2JEE1BAJPVI9N&datatype=csv&symbol=SCHW', 'https://www.alphavantage.co/query?function=TIME_SERIES_MONTHLY&apikey=ALA2JEE1BAJPVI9N&datatype=csv&symbol=GS', 'https://www.alphavantage.co/query?function=TIME_SERIES_MONTHLY&apikey=ALA2JEE1BAJPVI9N&datatype=csv&symbol=JNJ', 'https://www.alphavantage.co/query?function=TIME_SERIES_MONTHLY&apikey=ALA2JEE1BAJPVI9N&datatype=csv&symbol=UNH', 'https://www.alphavantage.co/query?function=TIME_SERIES_MONTHLY&apikey=ALA2JEE1BAJPVI9N&datatype=csv&symbol=MRK', 'https://www.alphavantage.co/query?function=TIME_SERIES_MONTHLY&apikey=ALA2JEE1BAJPVI9N&datatype=csv&symbol=PFE', 'https://www.alphavantage.co/query?function=TIME_SERIES_MONTHLY&apikey=ALA2JEE1BAJPVI9N&datatype=csv&symbol=ABT', 'https://www.alphavantage.co/query?function=TIME_SERIES_MONTHLY&apikey=ALA2JEE1BAJPVI9N&datatype=csv&symbol=TMO', 'https://www.alphavantage.co/query?function=TIME_SERIES_MONTHLY&apikey=ALA2JEE1BAJPVI9N&datatype=csv&symbol=ABBV', 'https://www.alphavantage.co/query?function=TIME_SERIES_MONTHLY&apikey=ALA2JEE1BAJPVI9N&datatype=csv&symbol=DHR', 'https://www.alphavantage.co/query?function=TIME_SERIES_MONTHLY&apikey=ALA2JEE1BAJPVI9N&datatype=csv&symbol=LLY', 'https://www.alphavantage.co/query?function=TIME_SERIES_MONTHLY&apikey=ALA2JEE1BAJPVI9N&datatype=csv&symbol=BMY', 'https://www.alphavantage.co/query?function=TIME_SERIES_MONTHLY&apikey=ALA2JEE1BAJPVI9N&datatype=csv&symbol=CVS', 'https://www.alphavantage.co/query?function=TIME_SERIES_MONTHLY&apikey=ALA2JEE1BAJPVI9N&datatype=csv&symbol=GILD', 'https://www.alphavantage.co/query?function=TIME_SERIES_MONTHLY&apikey=ALA2JEE1BAJPVI9N&datatype=csv&symbol=CI', 'https://www.alphavantage.co/query?function=TIME_SERIES_MONTHLY&apikey=ALA2JEE1BAJPVI9N&datatype=csv&symbol=HUM', 'https://www.alphavantage.co/query?function=TIME_SERIES_MONTHLY&apikey=ALA2JEE1BAJPVI9N&datatype=csv&symbol=AMZN', 'https://www.alphavantage.co/query?function=TIME_SERIES_MONTHLY&apikey=ALA2JEE1BAJPVI9N&datatype=csv&symbol=HD', 'https://www.alphavantage.co/query?function=TIME_SERIES_MONTHLY&apikey=ALA2JEE1BAJPVI9N&datatype=csv&symbol=NKE', 'https://www.alphavantage.co/query?function=TIME_SERIES_MONTHLY&apikey=ALA2JEE1BAJPVI9N&datatype=csv&symbol=MCD', 'https://www.alphavantage.co/query?function=TIME_SERIES_MONTHLY&apikey=ALA2JEE1BAJPVI9N&datatype=csv&symbol=SBUX', 'https://www.alphavantage.co/query?function=TIME_SERIES_MONTHLY&apikey=ALA2JEE1BAJPVI9N&datatype=csv&symbol=LOW', 'https://www.alphavantage.co/query?function=TIME_SERIES_MONTHLY&apikey=ALA2JEE1BAJPVI9N&datatype=csv&symbol=TJX', 'https://www.alphavantage.co/query?function=TIME_SERIES_MONTHLY&apikey=ALA2JEE1BAJPVI9N&datatype=csv&symbol=ROST', 'https://www.alphavantage.co/query?function=TIME_SERIES_MONTHLY&apikey=ALA2JEE1BAJPVI9N&datatype=csv&symbol=CMG', 'https://www.alphavantage.co/query?function=TIME_SERIES_MONTHLY&apikey=ALA2JEE1BAJPVI9N&datatype=csv&symbol=EBAY', 'https://www.alphavantage.co/query?function=TIME_SERIES_MONTHLY&apikey=ALA2JEE1BAJPVI9N&datatype=csv&symbol=YUM', 'https://www.alphavantage.co/query?function=TIME_SERIES_MONTHLY&apikey=ALA2JEE1BAJPVI9N&datatype=csv&symbol=XOM', 'https://www.alphavantage.co/query?function=TIME_SERIES_MONTHLY&apikey=ALA2JEE1BAJPVI9N&datatype=csv&symbol=CVX', 'https://www.alphavantage.co/query?function=TIME_SERIES_MONTHLY&apikey=ALA2JEE1BAJPVI9N&datatype=csv&symbol=COP', 'https://www.alphavantage.co/query?function=TIME_SERIES_MONTHLY&apikey=ALA2JEE1BAJPVI9N&datatype=csv&symbol=EPD', 'https://www.alphavantage.co/query?function=TIME_SERIES_MONTHLY&apikey=ALA2JEE1BAJPVI9N&datatype=csv&symbol=SLB', 'https://www.alphavantage.co/query?function=TIME_SERIES_MONTHLY&apikey=ALA2JEE1BAJPVI9N&datatype=csv&symbol=EOG', 'https://www.alphavantage.co/query?function=TIME_SERIES_MONTHLY&apikey=ALA2JEE1BAJPVI9N&datatype=csv&symbol=KMI', 'https://www.alphavantage.co/query?function=TIME_SERIES_MONTHLY&apikey=ALA2JEE1BAJPVI9N&datatype=csv&symbol=PSX', 'https://www.alphavantage.co/query?function=TIME_SERIES_MONTHLY&apikey=ALA2JEE1BAJPVI9N&datatype=csv&symbol=MPC', 'https://www.alphavantage.co/query?function=TIME_SERIES_MONTHLY&apikey=ALA2JEE1BAJPVI9N&datatype=csv&symbol=MPLX', 'https://www.alphavantage.co/query?function=TIME_SERIES_MONTHLY&apikey=ALA2JEE1BAJPVI9N&datatype=csv&symbol=VLO', 'https://www.alphavantage.co/query?function=TIME_SERIES_MONTHLY&apikey=ALA2JEE1BAJPVI9N&datatype=csv&symbol=TSLA', 'https://www.alphavantage.co/query?function=TIME_SERIES_MONTHLY&apikey=ALA2JEE1BAJPVI9N&datatype=csv&symbol=F', 'https://www.alphavantage.co/query?function=TIME_SERIES_MONTHLY&apikey=ALA2JEE1BAJPVI9N&datatype=csv&symbol=GM', 'https://www.alphavantage.co/query?function=TIME_SERIES_MONTHLY&apikey=ALA2JEE1BAJPVI9N&datatype=csv&symbol=DAL', 'https://www.alphavantage.co/query?function=TIME_SERIES_MONTHLY&apikey=ALA2JEE1BAJPVI9N&datatype=csv&symbol=LUV', 'https://www.alphavantage.co/query?function=TIME_SERIES_MONTHLY&apikey=ALA2JEE1BAJPVI9N&datatype=csv&symbol=UAL', 'https://www.alphavantage.co/query?function=TIME_SERIES_MONTHLY&apikey=ALA2JEE1BAJPVI9N&datatype=csv&symbol=AAL', 'https://www.alphavantage.co/query?function=TIME_SERIES_MONTHLY&apikey=ALA2JEE1BAJPVI9N&datatype=csv&symbol=ODFL', 'https://www.alphavantage.co/query?function=TIME_SERIES_MONTHLY&apikey=ALA2JEE1BAJPVI9N&datatype=csv&symbol=KNX', 'https://www.alphavantage.co/query?function=TIME_SERIES_MONTHLY&apikey=ALA2JEE1BAJPVI9N&datatype=csv&symbol=CCL', 'https://www.alphavantage.co/query?function=TIME_SERIES_MONTHLY&apikey=ALA2JEE1BAJPVI9N&datatype=csv&symbol=RCL', 'https://www.alphavantage.co/query?function=TIME_SERIES_MONTHLY&apikey=ALA2JEE1BAJPVI9N&datatype=csv&symbol=EXPE', 'https://www.alphavantage.co/query?function=TIME_SERIES_MONTHLY&apikey=ALA2JEE1BAJPVI9N&datatype=csv&symbol=BKNG', 'https://www.alphavantage.co/query?function=TIME_SERIES_MONTHLY&apikey=ALA2JEE1BAJPVI9N&datatype=csv&symbol=T', 'https://www.alphavantage.co/query?function=TIME_SERIES_MONTHLY&apikey=ALA2JEE1BAJPVI9N&datatype=csv&symbol=VZ', 'https://www.alphavantage.co/query?function=TIME_SERIES_MONTHLY&apikey=ALA2JEE1BAJPVI9N&datatype=csv&symbol=TMUS', 'https://www.alphavantage.co/query?function=TIME_SERIES_MONTHLY&apikey=ALA2JEE1BAJPVI9N&datatype=csv&symbol=ZM', 'https://www.alphavantage.co/query?function=TIME_SERIES_MONTHLY&apikey=ALA2JEE1BAJPVI9N&datatype=csv&symbol=ADBE', 'https://www.alphavantage.co/query?function=TIME_SERIES_MONTHLY&apikey=ALA2JEE1BAJPVI9N&datatype=csv&symbol=MSFT', 'https://www.alphavantage.co/query?function=TIME_SERIES_MONTHLY&apikey=ALA2JEE1BAJPVI9N&datatype=csv&symbol=ORCL', 'https://www.alphavantage.co/query?function=TIME_SERIES_MONTHLY&apikey=ALA2JEE1BAJPVI9N&datatype=csv&symbol=BKI', 'https://www.alphavantage.co/query?function=TIME_SERIES_MONTHLY&apikey=ALA2JEE1BAJPVI9N&datatype=csv&symbol=MDB', 'https://www.alphavantage.co/query?function=TIME_SERIES_MONTHLY&apikey=ALA2JEE1BAJPVI9N&datatype=csv&symbol=VRSN', 'https://www.alphavantage.co/query?function=TIME_SERIES_MONTHLY&apikey=ALA2JEE1BAJPVI9N&datatype=csv&symbol=SQ', 'https://www.alphavantage.co/query?function=TIME_SERIES_MONTHLY&apikey=ALA2JEE1BAJPVI9N&datatype=csv&symbol=AAPL', 'https://www.alphavantage.co/query?function=TIME_SERIES_MONTHLY&apikey=ALA2JEE1BAJPVI9N&datatype=csv&symbol=INTC', 'https://www.alphavantage.co/query?function=TIME_SERIES_MONTHLY&apikey=ALA2JEE1BAJPVI9N&datatype=csv&symbol=CRM', 'https://www.alphavantage.co/query?function=TIME_SERIES_MONTHLY&apikey=ALA2JEE1BAJPVI9N&datatype=csv&symbol=DOCU']\n"
     ]
    }
   ],
   "source": [
    "API_URL = \"https://www.alphavantage.co/query?function=TIME_SERIES_MONTHLY&apikey=\" + apikey + \"&datatype=csv&symbol=\"\n",
    "\n",
    "#energy = ['XOM', 'CVX', 'COP', 'KMI','PSX','MPC', 'EPD', 'SLB', 'MPLX', 'VLO', 'EOG']\n",
    "#tech = ['T', 'VZ', 'ZM', 'ADBE','MSFT','ORCL', 'BKI', 'MDB', 'VRSN', 'SQ', 'AAPL', 'INTC', 'CRM', 'DOCU']\n",
    "\n",
    "print(API_URL)\n",
    "\n",
    "url_list = []\n",
    "for ticker in tickers:\n",
    "    url_list.append(API_URL + ticker)\n",
    "    print(url_list)"
   ]
  },
  {
   "cell_type": "code",
   "execution_count": 30,
   "metadata": {},
   "outputs": [
    {
     "output_type": "stream",
     "name": "stderr",
     "text": [
      "[WDM] - Current google-chrome version is 87.0.4280\n",
      "[WDM] - Get LATEST driver version for 87.0.4280\n",
      "[WDM] - Driver [C:\\Users\\cohnj\\.wdm\\drivers\\chromedriver\\win32\\87.0.4280.88\\chromedriver.exe] found in cache\n",
      " \n"
     ]
    }
   ],
   "source": [
    "executable_path = {'executable_path': ChromeDriverManager().install()}\n",
    "options = webdriver.ChromeOptions() \n",
    "options.add_argument(\"download.default_directory=C:/Bootcamp Repo/Projects/Project 2_LocalComputer/TIME_SERIES_MONTHLY_OUTPUT\")\n",
    "browser = Browser('chrome', **executable_path, headless=False)\n",
    "\n",
    "for url in url_list:\n",
    "    browser.visit(url)\n",
    "    time.sleep(20)"
   ]
  },
  {
   "source": [
    "browser.quit()"
   ],
   "cell_type": "code",
   "metadata": {},
   "execution_count": 31,
   "outputs": []
  },
  {
   "cell_type": "code",
   "execution_count": 39,
   "metadata": {},
   "outputs": [
    {
     "output_type": "stream",
     "name": "stdout",
     "text": [
      "['..\\\\Project 2_LocalComputer\\\\TIME_SERIES_MONTHLY_OUTPUT\\\\monthly_AAL.csv', '..\\\\Project 2_LocalComputer\\\\TIME_SERIES_MONTHLY_OUTPUT\\\\monthly_AAPL.csv', '..\\\\Project 2_LocalComputer\\\\TIME_SERIES_MONTHLY_OUTPUT\\\\monthly_ABBV.csv', '..\\\\Project 2_LocalComputer\\\\TIME_SERIES_MONTHLY_OUTPUT\\\\monthly_ABT.csv', '..\\\\Project 2_LocalComputer\\\\TIME_SERIES_MONTHLY_OUTPUT\\\\monthly_ADBE.csv', '..\\\\Project 2_LocalComputer\\\\TIME_SERIES_MONTHLY_OUTPUT\\\\monthly_AMZN.csv', '..\\\\Project 2_LocalComputer\\\\TIME_SERIES_MONTHLY_OUTPUT\\\\monthly_BAC.csv', '..\\\\Project 2_LocalComputer\\\\TIME_SERIES_MONTHLY_OUTPUT\\\\monthly_BKI.csv', '..\\\\Project 2_LocalComputer\\\\TIME_SERIES_MONTHLY_OUTPUT\\\\monthly_BKNG.csv', '..\\\\Project 2_LocalComputer\\\\TIME_SERIES_MONTHLY_OUTPUT\\\\monthly_BLK.csv', '..\\\\Project 2_LocalComputer\\\\TIME_SERIES_MONTHLY_OUTPUT\\\\monthly_BMY.csv', '..\\\\Project 2_LocalComputer\\\\TIME_SERIES_MONTHLY_OUTPUT\\\\monthly_C.csv', '..\\\\Project 2_LocalComputer\\\\TIME_SERIES_MONTHLY_OUTPUT\\\\monthly_CCL.csv', '..\\\\Project 2_LocalComputer\\\\TIME_SERIES_MONTHLY_OUTPUT\\\\monthly_CI.csv', '..\\\\Project 2_LocalComputer\\\\TIME_SERIES_MONTHLY_OUTPUT\\\\monthly_CMG.csv', '..\\\\Project 2_LocalComputer\\\\TIME_SERIES_MONTHLY_OUTPUT\\\\monthly_COP.csv', '..\\\\Project 2_LocalComputer\\\\TIME_SERIES_MONTHLY_OUTPUT\\\\monthly_CRM.csv', '..\\\\Project 2_LocalComputer\\\\TIME_SERIES_MONTHLY_OUTPUT\\\\monthly_CVS.csv', '..\\\\Project 2_LocalComputer\\\\TIME_SERIES_MONTHLY_OUTPUT\\\\monthly_CVX.csv', '..\\\\Project 2_LocalComputer\\\\TIME_SERIES_MONTHLY_OUTPUT\\\\monthly_DAL.csv', '..\\\\Project 2_LocalComputer\\\\TIME_SERIES_MONTHLY_OUTPUT\\\\monthly_DHR.csv', '..\\\\Project 2_LocalComputer\\\\TIME_SERIES_MONTHLY_OUTPUT\\\\monthly_DOCU.csv', '..\\\\Project 2_LocalComputer\\\\TIME_SERIES_MONTHLY_OUTPUT\\\\monthly_EBAY.csv', '..\\\\Project 2_LocalComputer\\\\TIME_SERIES_MONTHLY_OUTPUT\\\\monthly_EOG.csv', '..\\\\Project 2_LocalComputer\\\\TIME_SERIES_MONTHLY_OUTPUT\\\\monthly_EPD.csv', '..\\\\Project 2_LocalComputer\\\\TIME_SERIES_MONTHLY_OUTPUT\\\\monthly_EXPE.csv', '..\\\\Project 2_LocalComputer\\\\TIME_SERIES_MONTHLY_OUTPUT\\\\monthly_F.csv', '..\\\\Project 2_LocalComputer\\\\TIME_SERIES_MONTHLY_OUTPUT\\\\monthly_GILD.csv', '..\\\\Project 2_LocalComputer\\\\TIME_SERIES_MONTHLY_OUTPUT\\\\monthly_GM.csv', '..\\\\Project 2_LocalComputer\\\\TIME_SERIES_MONTHLY_OUTPUT\\\\monthly_GS.csv', '..\\\\Project 2_LocalComputer\\\\TIME_SERIES_MONTHLY_OUTPUT\\\\monthly_HD.csv', '..\\\\Project 2_LocalComputer\\\\TIME_SERIES_MONTHLY_OUTPUT\\\\monthly_HUM.csv', '..\\\\Project 2_LocalComputer\\\\TIME_SERIES_MONTHLY_OUTPUT\\\\monthly_INTC.csv', '..\\\\Project 2_LocalComputer\\\\TIME_SERIES_MONTHLY_OUTPUT\\\\monthly_JNJ.csv', '..\\\\Project 2_LocalComputer\\\\TIME_SERIES_MONTHLY_OUTPUT\\\\monthly_JPM.csv', '..\\\\Project 2_LocalComputer\\\\TIME_SERIES_MONTHLY_OUTPUT\\\\monthly_KMI.csv', '..\\\\Project 2_LocalComputer\\\\TIME_SERIES_MONTHLY_OUTPUT\\\\monthly_KNX.csv', '..\\\\Project 2_LocalComputer\\\\TIME_SERIES_MONTHLY_OUTPUT\\\\monthly_LLY.csv', '..\\\\Project 2_LocalComputer\\\\TIME_SERIES_MONTHLY_OUTPUT\\\\monthly_LOW.csv', '..\\\\Project 2_LocalComputer\\\\TIME_SERIES_MONTHLY_OUTPUT\\\\monthly_LUV.csv', '..\\\\Project 2_LocalComputer\\\\TIME_SERIES_MONTHLY_OUTPUT\\\\monthly_MA.csv', '..\\\\Project 2_LocalComputer\\\\TIME_SERIES_MONTHLY_OUTPUT\\\\monthly_MCD.csv', '..\\\\Project 2_LocalComputer\\\\TIME_SERIES_MONTHLY_OUTPUT\\\\monthly_MDB.csv', '..\\\\Project 2_LocalComputer\\\\TIME_SERIES_MONTHLY_OUTPUT\\\\monthly_MPC.csv', '..\\\\Project 2_LocalComputer\\\\TIME_SERIES_MONTHLY_OUTPUT\\\\monthly_MPLX.csv', '..\\\\Project 2_LocalComputer\\\\TIME_SERIES_MONTHLY_OUTPUT\\\\monthly_MRK.csv', '..\\\\Project 2_LocalComputer\\\\TIME_SERIES_MONTHLY_OUTPUT\\\\monthly_MS.csv', '..\\\\Project 2_LocalComputer\\\\TIME_SERIES_MONTHLY_OUTPUT\\\\monthly_MSFT.csv', '..\\\\Project 2_LocalComputer\\\\TIME_SERIES_MONTHLY_OUTPUT\\\\monthly_NKE.csv', '..\\\\Project 2_LocalComputer\\\\TIME_SERIES_MONTHLY_OUTPUT\\\\monthly_ODFL.csv', '..\\\\Project 2_LocalComputer\\\\TIME_SERIES_MONTHLY_OUTPUT\\\\monthly_ORCL.csv', '..\\\\Project 2_LocalComputer\\\\TIME_SERIES_MONTHLY_OUTPUT\\\\monthly_PFE.csv', '..\\\\Project 2_LocalComputer\\\\TIME_SERIES_MONTHLY_OUTPUT\\\\monthly_PSX.csv', '..\\\\Project 2_LocalComputer\\\\TIME_SERIES_MONTHLY_OUTPUT\\\\monthly_RCL.csv', '..\\\\Project 2_LocalComputer\\\\TIME_SERIES_MONTHLY_OUTPUT\\\\monthly_ROST.csv', '..\\\\Project 2_LocalComputer\\\\TIME_SERIES_MONTHLY_OUTPUT\\\\monthly_SBUX.csv', '..\\\\Project 2_LocalComputer\\\\TIME_SERIES_MONTHLY_OUTPUT\\\\monthly_SCHW.csv', '..\\\\Project 2_LocalComputer\\\\TIME_SERIES_MONTHLY_OUTPUT\\\\monthly_SLB.csv', '..\\\\Project 2_LocalComputer\\\\TIME_SERIES_MONTHLY_OUTPUT\\\\monthly_SQ.csv', '..\\\\Project 2_LocalComputer\\\\TIME_SERIES_MONTHLY_OUTPUT\\\\monthly_T.csv', '..\\\\Project 2_LocalComputer\\\\TIME_SERIES_MONTHLY_OUTPUT\\\\monthly_TJX.csv', '..\\\\Project 2_LocalComputer\\\\TIME_SERIES_MONTHLY_OUTPUT\\\\monthly_TMO.csv', '..\\\\Project 2_LocalComputer\\\\TIME_SERIES_MONTHLY_OUTPUT\\\\monthly_TMUS.csv', '..\\\\Project 2_LocalComputer\\\\TIME_SERIES_MONTHLY_OUTPUT\\\\monthly_TSLA.csv', '..\\\\Project 2_LocalComputer\\\\TIME_SERIES_MONTHLY_OUTPUT\\\\monthly_UAL.csv', '..\\\\Project 2_LocalComputer\\\\TIME_SERIES_MONTHLY_OUTPUT\\\\monthly_UNH.csv', '..\\\\Project 2_LocalComputer\\\\TIME_SERIES_MONTHLY_OUTPUT\\\\monthly_V.csv', '..\\\\Project 2_LocalComputer\\\\TIME_SERIES_MONTHLY_OUTPUT\\\\monthly_VLO.csv', '..\\\\Project 2_LocalComputer\\\\TIME_SERIES_MONTHLY_OUTPUT\\\\monthly_VRSN.csv', '..\\\\Project 2_LocalComputer\\\\TIME_SERIES_MONTHLY_OUTPUT\\\\monthly_VZ.csv', '..\\\\Project 2_LocalComputer\\\\TIME_SERIES_MONTHLY_OUTPUT\\\\monthly_WFC.csv', '..\\\\Project 2_LocalComputer\\\\TIME_SERIES_MONTHLY_OUTPUT\\\\monthly_XOM.csv', '..\\\\Project 2_LocalComputer\\\\TIME_SERIES_MONTHLY_OUTPUT\\\\monthly_YUM.csv', '..\\\\Project 2_LocalComputer\\\\TIME_SERIES_MONTHLY_OUTPUT\\\\monthly_ZM.csv']\n"
     ]
    }
   ],
   "source": [
    "#after downloading the CSVs to a singular location, use glob to create the file path names based on the same extension of .csv\n",
    "path = \"..\\Project 2_LocalComputer\\TIME_SERIES_MONTHLY_OUTPUT\"\n",
    "all_csvs = glob.glob(os.path.join(path, \"*.csv\"))\n",
    "print(all_csvs)"
   ]
  },
  {
   "cell_type": "code",
   "execution_count": 50,
   "metadata": {},
   "outputs": [],
   "source": [
    "#create a dataframe concatenating all of the files. As none of the files themselves contain the ticker symbol (they are in the name of the file download via the API), assign a new column called Ticker which adds the file's name. Split functions for the . and _ characters remove the monthly and .csv, leaving just the ticker symbol.\n",
    "df = pd.concat([pd.read_csv(fp).assign(Ticker=os.path.basename(fp).split('.')[0].split('_')[1]) for fp in all_csvs])"
   ]
  },
  {
   "cell_type": "code",
   "execution_count": 51,
   "metadata": {},
   "outputs": [
    {
     "output_type": "stream",
     "name": "stdout",
     "text": [
      "     timestamp   open    high      low  close      volume Ticker\n0   2021-01-08  15.85   15.88  14.8700  15.13   290652850    AAL\n1   2020-12-31  14.42   18.63  13.8500  15.77  1859379706    AAL\n2   2020-11-30  11.32   15.56  10.8700  14.13  1697734108    AAL\n3   2020-10-30  12.45   13.68  10.6300  11.28  1349577414    AAL\n4   2020-09-30  12.86   14.16  11.2200  12.29  1200124582    AAL\n..         ...    ...     ...      ...    ...         ...    ...\n16  2019-09-30  91.50   96.50  74.2900  76.20    49968965     ZM\n17  2019-08-30  95.75   98.66  87.2900  91.67    23512891     ZM\n18  2019-07-31  85.13  104.49  83.1000  95.51    51722285     ZM\n19  2019-06-28  80.00  107.34  75.6500  88.79    65088241     ZM\n20  2019-05-31  72.72   91.46  69.6912  79.73    53272635     ZM\n\n[16055 rows x 7 columns]\n"
     ]
    }
   ],
   "source": [
    "print(df)"
   ]
  },
  {
   "cell_type": "code",
   "execution_count": 53,
   "metadata": {},
   "outputs": [
    {
     "output_type": "execute_result",
     "data": {
      "text/plain": [
       "timestamp     object\n",
       "open         float64\n",
       "high         float64\n",
       "low          float64\n",
       "close        float64\n",
       "volume         int64\n",
       "Ticker        object\n",
       "dtype: object"
      ]
     },
     "metadata": {},
     "execution_count": 53
    }
   ],
   "source": [
    "datatypes = df.dtypes\n",
    "datatypes"
   ]
  },
  {
   "cell_type": "code",
   "execution_count": 52,
   "metadata": {},
   "outputs": [],
   "source": [
    "output_data_file = df.to_csv(\"monthly_output.csv\", encoding='utf-8', index=False)"
   ]
  },
  {
   "cell_type": "code",
   "execution_count": 61,
   "metadata": {},
   "outputs": [
    {
     "output_type": "execute_result",
     "data": {
      "text/plain": [
       "0    2021\n",
       "0    2021\n",
       "0    2021\n",
       "0    2021\n",
       "0    2021\n",
       "     ... \n",
       "0    2021\n",
       "0    2021\n",
       "0    2021\n",
       "0    2021\n",
       "0    2021\n",
       "Name: timestamp, Length: 74, dtype: object"
      ]
     },
     "metadata": {},
     "execution_count": 61
    }
   ],
   "source": [
    "datatypes = df[\"timestamp\"][0].str[:4]\n",
    "datatypes\n",
    "      \n"
   ]
  },
  {
   "cell_type": "code",
   "execution_count": null,
   "metadata": {},
   "outputs": [],
   "source": []
  }
 ],
 "metadata": {
  "kernelspec": {
   "name": "python3",
   "display_name": "Python 3.6.10 64-bit ('PythonData': conda)",
   "metadata": {
    "interpreter": {
     "hash": "0b96008626cca6475d57468afa2b47499b7d40e34aa4792a1fd054893ac8e4a7"
    }
   }
  },
  "language_info": {
   "codemirror_mode": {
    "name": "ipython",
    "version": 3
   },
   "file_extension": ".py",
   "mimetype": "text/x-python",
   "name": "python",
   "nbconvert_exporter": "python",
   "pygments_lexer": "ipython3",
   "version": "3.6.10-final"
  },
  "varInspector": {
   "cols": {
    "lenName": 16,
    "lenType": 16,
    "lenVar": 40
   },
   "kernels_config": {
    "python": {
     "delete_cmd_postfix": "",
     "delete_cmd_prefix": "del ",
     "library": "var_list.py",
     "varRefreshCmd": "print(var_dic_list())"
    },
    "r": {
     "delete_cmd_postfix": ") ",
     "delete_cmd_prefix": "rm(",
     "library": "var_list.r",
     "varRefreshCmd": "cat(var_dic_list()) "
    }
   },
   "types_to_exclude": [
    "module",
    "function",
    "builtin_function_or_method",
    "instance",
    "_Feature"
   ],
   "window_display": false
  }
 },
 "nbformat": 4,
 "nbformat_minor": 2
}